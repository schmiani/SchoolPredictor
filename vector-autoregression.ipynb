{
 "metadata": {
  "name": "",
  "signature": "sha256:d9fa3ca464ff8debf028c22cfffb7c9c139303ee142c30586dcbfd5467872693"
 },
 "nbformat": 3,
 "nbformat_minor": 0,
 "worksheets": [
  {
   "cells": [
    {
     "cell_type": "code",
     "collapsed": false,
     "input": [
      "import MySQLdb\n",
      "import pandas.io.sql as psql\n",
      "from pandas import *\n",
      "import numpy as np\n",
      "import scipy.stats\n",
      "import scipy\n",
      "from sklearn import linear_model\n",
      "from sklearn import preprocessing"
     ],
     "language": "python",
     "metadata": {},
     "outputs": [],
     "prompt_number": 1
    },
    {
     "cell_type": "code",
     "collapsed": false,
     "input": [
      "mydb = MySQLdb.connect(host='localhost',\n",
      "    user='root',\n",
      "    passwd='password',\n",
      "    db='school')"
     ],
     "language": "python",
     "metadata": {},
     "outputs": [],
     "prompt_number": 2
    },
    {
     "cell_type": "code",
     "collapsed": false,
     "input": [
      "df_scores = psql.read_sql('SELECT * FROM allyears_ems', con=mydb)"
     ],
     "language": "python",
     "metadata": {},
     "outputs": [],
     "prompt_number": 3
    },
    {
     "cell_type": "code",
     "collapsed": false,
     "input": [
      "df_other = psql.read_sql('SELECT * FROM allyears_EMS_other', con=mydb)"
     ],
     "language": "python",
     "metadata": {},
     "outputs": [],
     "prompt_number": 4
    },
    {
     "cell_type": "code",
     "collapsed": false,
     "input": [
      "df_all = merge(df_scores,df_other,right_on='DBN',left_on='DBN')\n",
      "df_all['2012_13_PERF'] = (df_all['2012_13_MATH'] + df_all['2012_13_ELA'])/2\n",
      "df_all['2011_12_PERF'] = (df_all['2011_12_MATH'] + df_all['2011_12_ELA'])/2\n",
      "df_all['2010_11_PERF'] = (df_all['2010_11_MATH'] + df_all['2010_11_ELA'])/2\n",
      "df_all['2009_10_PERF'] = (df_all['2009_10_MATH'] + df_all['2009_10_ELA'])/2\n",
      "df_all['2008_09_PERF'] = (df_all['2008_09_MATH'] + df_all['2008_09_ELA'])/2\n",
      "df_all['2007_08_PERF'] = (df_all['2007_08_MATH'] + df_all['2007_08_ELA'])/2\n",
      "df_all['2006_07_PERF'] = (df_all['2006_07_MATH'] + df_all['2006_07_ELA'])/2"
     ],
     "language": "python",
     "metadata": {},
     "outputs": [],
     "prompt_number": 5
    },
    {
     "cell_type": "code",
     "collapsed": false,
     "input": [
      "model = linear_model.LinearRegression()\n",
      "model"
     ],
     "language": "python",
     "metadata": {},
     "outputs": [
      {
       "metadata": {},
       "output_type": "pyout",
       "prompt_number": 6,
       "text": [
        "LinearRegression(copy_X=True, fit_intercept=True, normalize=False)"
       ]
      }
     ],
     "prompt_number": 6
    },
    {
     "cell_type": "code",
     "collapsed": false,
     "input": [
      "X = df_all[['2006_07_SCORE','2007_08_SCORE','2008_09_SCORE','2009_10_SCORE','2010_11_SCORE','2006_07_PERF','2007_08_PERF','2008_09_PERF','2009_10_PERF','2010_11_PERF']]"
     ],
     "language": "python",
     "metadata": {},
     "outputs": [],
     "prompt_number": 7
    },
    {
     "cell_type": "code",
     "collapsed": false,
     "input": [
      "imputer = preprocessing.Imputer(strategy='median')\n",
      "imputer.fit(X)\n",
      "X_imputed = imputer.transform(X)"
     ],
     "language": "python",
     "metadata": {},
     "outputs": [],
     "prompt_number": 8
    },
    {
     "cell_type": "code",
     "collapsed": false,
     "input": [
      "y = df_all['2011_12_SCORE']\n",
      "imputer = preprocessing.Imputer(strategy='median',axis = 1)\n",
      "imputer.fit(y)\n",
      "y_imputed = imputer.transform(y)"
     ],
     "language": "python",
     "metadata": {},
     "outputs": [],
     "prompt_number": 9
    },
    {
     "cell_type": "code",
     "collapsed": false,
     "input": [
      "model.fit(X_imputed,transpose(y_imputed))"
     ],
     "language": "python",
     "metadata": {},
     "outputs": [
      {
       "metadata": {},
       "output_type": "pyout",
       "prompt_number": 10,
       "text": [
        "LinearRegression(copy_X=True, fit_intercept=True, normalize=False)"
       ]
      }
     ],
     "prompt_number": 10
    },
    {
     "cell_type": "code",
     "collapsed": false,
     "input": [
      "out = model.predict(X_imputed)"
     ],
     "language": "python",
     "metadata": {},
     "outputs": [],
     "prompt_number": 11
    },
    {
     "cell_type": "code",
     "collapsed": false,
     "input": [
      "model.score(X_imputed,transpose(y_imputed))"
     ],
     "language": "python",
     "metadata": {},
     "outputs": [
      {
       "metadata": {},
       "output_type": "pyout",
       "prompt_number": 12,
       "text": [
        "0.29710973529193141"
       ]
      }
     ],
     "prompt_number": 12
    },
    {
     "cell_type": "code",
     "collapsed": false,
     "input": [
      "df = df_scores\n",
      "df_scores['auto_pred_2012'] = DataFrame(out)"
     ],
     "language": "python",
     "metadata": {},
     "outputs": [],
     "prompt_number": 13
    },
    {
     "cell_type": "code",
     "collapsed": false,
     "input": [
      "df.head()"
     ],
     "language": "python",
     "metadata": {},
     "outputs": [
      {
       "html": [
        "<div style=\"max-height:1000px;max-width:1500px;overflow:auto;\">\n",
        "<table border=\"1\" class=\"dataframe\">\n",
        "  <thead>\n",
        "    <tr style=\"text-align: right;\">\n",
        "      <th></th>\n",
        "      <th>DBN</th>\n",
        "      <th>School</th>\n",
        "      <th>School_Type</th>\n",
        "      <th>2012_13_SCORE</th>\n",
        "      <th>2012_13_GRADE</th>\n",
        "      <th>2011_12_SCORE</th>\n",
        "      <th>2011_12_GRADE</th>\n",
        "      <th>2010_11_SCORE</th>\n",
        "      <th>2010_11_GRADE</th>\n",
        "      <th>2009_10_SCORE</th>\n",
        "      <th>2009_10_GRADE</th>\n",
        "      <th>2008_09_SCORE</th>\n",
        "      <th>2008_09_GRADE</th>\n",
        "      <th>2007_08_SCORE</th>\n",
        "      <th>2007_08_GARDE</th>\n",
        "      <th>2006_07_SCORE</th>\n",
        "      <th>2006_07_GRADE</th>\n",
        "      <th>auto_pred_2012</th>\n",
        "    </tr>\n",
        "  </thead>\n",
        "  <tbody>\n",
        "    <tr>\n",
        "      <th>0</th>\n",
        "      <td> 24Q877</td>\n",
        "      <td> The 51 Avenue Academy (The Path To Academic Ex...</td>\n",
        "      <td> Elementary</td>\n",
        "      <td> 59.4</td>\n",
        "      <td> B</td>\n",
        "      <td> 78.2</td>\n",
        "      <td> A</td>\n",
        "      <td> 77.2</td>\n",
        "      <td> A</td>\n",
        "      <td> 78.1</td>\n",
        "      <td> A</td>\n",
        "      <td>  95.7</td>\n",
        "      <td> A</td>\n",
        "      <td> 79.0</td>\n",
        "      <td> A</td>\n",
        "      <td> 49.7</td>\n",
        "      <td> C</td>\n",
        "      <td> 73.400170</td>\n",
        "    </tr>\n",
        "    <tr>\n",
        "      <th>1</th>\n",
        "      <td> 17K382</td>\n",
        "      <td> Academy for College Preparation and Career Exp...</td>\n",
        "      <td>     Middle</td>\n",
        "      <td> 36.1</td>\n",
        "      <td> D</td>\n",
        "      <td> 44.4</td>\n",
        "      <td> C</td>\n",
        "      <td> 47.7</td>\n",
        "      <td> B</td>\n",
        "      <td> 28.8</td>\n",
        "      <td> D</td>\n",
        "      <td>  52.3</td>\n",
        "      <td> C</td>\n",
        "      <td> 76.3</td>\n",
        "      <td> A</td>\n",
        "      <td>  NaN</td>\n",
        "      <td>  </td>\n",
        "      <td> 51.742086</td>\n",
        "    </tr>\n",
        "    <tr>\n",
        "      <th>2</th>\n",
        "      <td> 30Q235</td>\n",
        "      <td>                         Academy for New Americans</td>\n",
        "      <td>     Middle</td>\n",
        "      <td> 78.0</td>\n",
        "      <td> A</td>\n",
        "      <td> 87.6</td>\n",
        "      <td> A</td>\n",
        "      <td> 71.7</td>\n",
        "      <td> A</td>\n",
        "      <td> 74.6</td>\n",
        "      <td> A</td>\n",
        "      <td>  97.2</td>\n",
        "      <td> A</td>\n",
        "      <td> 89.9</td>\n",
        "      <td> A</td>\n",
        "      <td>  NaN</td>\n",
        "      <td>  </td>\n",
        "      <td> 71.729032</td>\n",
        "    </tr>\n",
        "    <tr>\n",
        "      <th>3</th>\n",
        "      <td> 07X343</td>\n",
        "      <td>     Academy of Applied Mathematics and Technology</td>\n",
        "      <td>     Middle</td>\n",
        "      <td> 63.0</td>\n",
        "      <td> B</td>\n",
        "      <td> 70.4</td>\n",
        "      <td> A</td>\n",
        "      <td> 60.8</td>\n",
        "      <td> A</td>\n",
        "      <td> 62.9</td>\n",
        "      <td> A</td>\n",
        "      <td> 102.0</td>\n",
        "      <td> A</td>\n",
        "      <td> 68.7</td>\n",
        "      <td> A</td>\n",
        "      <td> 78.1</td>\n",
        "      <td> A</td>\n",
        "      <td> 64.799754</td>\n",
        "    </tr>\n",
        "    <tr>\n",
        "      <th>4</th>\n",
        "      <td> 07X298</td>\n",
        "      <td>                       Academy of Public Relations</td>\n",
        "      <td>     Middle</td>\n",
        "      <td> 44.4</td>\n",
        "      <td> C</td>\n",
        "      <td> 66.5</td>\n",
        "      <td> A</td>\n",
        "      <td> 61.9</td>\n",
        "      <td> A</td>\n",
        "      <td> 65.7</td>\n",
        "      <td> A</td>\n",
        "      <td>  82.6</td>\n",
        "      <td> A</td>\n",
        "      <td> 54.2</td>\n",
        "      <td> B</td>\n",
        "      <td> 68.6</td>\n",
        "      <td> A</td>\n",
        "      <td> 62.246739</td>\n",
        "    </tr>\n",
        "  </tbody>\n",
        "</table>\n",
        "</div>"
       ],
       "metadata": {},
       "output_type": "pyout",
       "prompt_number": 14,
       "text": [
        "      DBN                                             School School_Type  \\\n",
        "0  24Q877  The 51 Avenue Academy (The Path To Academic Ex...  Elementary   \n",
        "1  17K382  Academy for College Preparation and Career Exp...      Middle   \n",
        "2  30Q235                          Academy for New Americans      Middle   \n",
        "3  07X343      Academy of Applied Mathematics and Technology      Middle   \n",
        "4  07X298                        Academy of Public Relations      Middle   \n",
        "\n",
        "   2012_13_SCORE 2012_13_GRADE  2011_12_SCORE 2011_12_GRADE  2010_11_SCORE  \\\n",
        "0           59.4             B           78.2             A           77.2   \n",
        "1           36.1             D           44.4             C           47.7   \n",
        "2           78.0             A           87.6             A           71.7   \n",
        "3           63.0             B           70.4             A           60.8   \n",
        "4           44.4             C           66.5             A           61.9   \n",
        "\n",
        "  2010_11_GRADE  2009_10_SCORE 2009_10_GRADE  2008_09_SCORE 2008_09_GRADE  \\\n",
        "0             A           78.1             A           95.7             A   \n",
        "1             B           28.8             D           52.3             C   \n",
        "2             A           74.6             A           97.2             A   \n",
        "3             A           62.9             A          102.0             A   \n",
        "4             A           65.7             A           82.6             A   \n",
        "\n",
        "   2007_08_SCORE 2007_08_GARDE  2006_07_SCORE 2006_07_GRADE  auto_pred_2012  \n",
        "0           79.0             A           49.7             C       73.400170  \n",
        "1           76.3             A            NaN                     51.742086  \n",
        "2           89.9             A            NaN                     71.729032  \n",
        "3           68.7             A           78.1             A       64.799754  \n",
        "4           54.2             B           68.6             A       62.246739  "
       ]
      }
     ],
     "prompt_number": 14
    },
    {
     "cell_type": "code",
     "collapsed": false,
     "input": [
      "RMSE_auto_train = ((df['auto_pred_2012']-df['2011_12_SCORE'])**2).mean()**(0.5)\n",
      "print \"RMSE of autoregression training data: \" +  str(RMSE_auto_train)"
     ],
     "language": "python",
     "metadata": {},
     "outputs": [
      {
       "output_type": "stream",
       "stream": "stdout",
       "text": [
        "RMSE of autoregression training data: 12.5367574441\n"
       ]
      }
     ],
     "prompt_number": 15
    },
    {
     "cell_type": "code",
     "collapsed": false,
     "input": [
      "X_test = df_all[['2007_08_SCORE','2008_09_SCORE','2009_10_SCORE','2010_11_SCORE','2011_12_SCORE','2007_08_SCORE','2008_09_PERF','2009_10_PERF','2010_11_PERF','2011_12_PERF']]"
     ],
     "language": "python",
     "metadata": {},
     "outputs": [],
     "prompt_number": 16
    },
    {
     "cell_type": "code",
     "collapsed": false,
     "input": [
      "imputer = preprocessing.Imputer(strategy='median')\n",
      "imputer.fit(X_test)\n",
      "X_test_imputed = imputer.transform(X_test)"
     ],
     "language": "python",
     "metadata": {},
     "outputs": [],
     "prompt_number": 17
    },
    {
     "cell_type": "code",
     "collapsed": false,
     "input": [
      "y_test = df_all['2012_13_SCORE']\n",
      "imputer = preprocessing.Imputer(strategy='median',axis = 1)\n",
      "imputer.fit(y_test)\n",
      "y_test_imputed = imputer.transform(y_test)"
     ],
     "language": "python",
     "metadata": {},
     "outputs": [],
     "prompt_number": 18
    },
    {
     "cell_type": "code",
     "collapsed": false,
     "input": [
      "out = model.predict(X_test_imputed)"
     ],
     "language": "python",
     "metadata": {},
     "outputs": [],
     "prompt_number": 19
    },
    {
     "cell_type": "code",
     "collapsed": false,
     "input": [
      "df['auto_pred_2013'] = DataFrame(out)"
     ],
     "language": "python",
     "metadata": {},
     "outputs": [],
     "prompt_number": 20
    },
    {
     "cell_type": "code",
     "collapsed": false,
     "input": [
      "df.head()"
     ],
     "language": "python",
     "metadata": {},
     "outputs": [
      {
       "html": [
        "<div style=\"max-height:1000px;max-width:1500px;overflow:auto;\">\n",
        "<table border=\"1\" class=\"dataframe\">\n",
        "  <thead>\n",
        "    <tr style=\"text-align: right;\">\n",
        "      <th></th>\n",
        "      <th>DBN</th>\n",
        "      <th>School</th>\n",
        "      <th>School_Type</th>\n",
        "      <th>2012_13_SCORE</th>\n",
        "      <th>2012_13_GRADE</th>\n",
        "      <th>2011_12_SCORE</th>\n",
        "      <th>2011_12_GRADE</th>\n",
        "      <th>2010_11_SCORE</th>\n",
        "      <th>2010_11_GRADE</th>\n",
        "      <th>2009_10_SCORE</th>\n",
        "      <th>2009_10_GRADE</th>\n",
        "      <th>2008_09_SCORE</th>\n",
        "      <th>2008_09_GRADE</th>\n",
        "      <th>2007_08_SCORE</th>\n",
        "      <th>2007_08_GARDE</th>\n",
        "      <th>2006_07_SCORE</th>\n",
        "      <th>2006_07_GRADE</th>\n",
        "      <th>auto_pred_2012</th>\n",
        "      <th>auto_pred_2013</th>\n",
        "    </tr>\n",
        "  </thead>\n",
        "  <tbody>\n",
        "    <tr>\n",
        "      <th>0</th>\n",
        "      <td> 24Q877</td>\n",
        "      <td> The 51 Avenue Academy (The Path To Academic Ex...</td>\n",
        "      <td> Elementary</td>\n",
        "      <td> 59.4</td>\n",
        "      <td> B</td>\n",
        "      <td> 78.2</td>\n",
        "      <td> A</td>\n",
        "      <td> 77.2</td>\n",
        "      <td> A</td>\n",
        "      <td> 78.1</td>\n",
        "      <td> A</td>\n",
        "      <td>  95.7</td>\n",
        "      <td> A</td>\n",
        "      <td> 79.0</td>\n",
        "      <td> A</td>\n",
        "      <td> 49.7</td>\n",
        "      <td> C</td>\n",
        "      <td> 73.400170</td>\n",
        "      <td>-179.214044</td>\n",
        "    </tr>\n",
        "    <tr>\n",
        "      <th>1</th>\n",
        "      <td> 17K382</td>\n",
        "      <td> Academy for College Preparation and Career Exp...</td>\n",
        "      <td>     Middle</td>\n",
        "      <td> 36.1</td>\n",
        "      <td> D</td>\n",
        "      <td> 44.4</td>\n",
        "      <td> C</td>\n",
        "      <td> 47.7</td>\n",
        "      <td> B</td>\n",
        "      <td> 28.8</td>\n",
        "      <td> D</td>\n",
        "      <td>  52.3</td>\n",
        "      <td> C</td>\n",
        "      <td> 76.3</td>\n",
        "      <td> A</td>\n",
        "      <td>  NaN</td>\n",
        "      <td>  </td>\n",
        "      <td> 51.742086</td>\n",
        "      <td>-197.223767</td>\n",
        "    </tr>\n",
        "    <tr>\n",
        "      <th>2</th>\n",
        "      <td> 30Q235</td>\n",
        "      <td>                         Academy for New Americans</td>\n",
        "      <td>     Middle</td>\n",
        "      <td> 78.0</td>\n",
        "      <td> A</td>\n",
        "      <td> 87.6</td>\n",
        "      <td> A</td>\n",
        "      <td> 71.7</td>\n",
        "      <td> A</td>\n",
        "      <td> 74.6</td>\n",
        "      <td> A</td>\n",
        "      <td>  97.2</td>\n",
        "      <td> A</td>\n",
        "      <td> 89.9</td>\n",
        "      <td> A</td>\n",
        "      <td>  NaN</td>\n",
        "      <td>  </td>\n",
        "      <td> 71.729032</td>\n",
        "      <td>-220.614215</td>\n",
        "    </tr>\n",
        "    <tr>\n",
        "      <th>3</th>\n",
        "      <td> 07X343</td>\n",
        "      <td>     Academy of Applied Mathematics and Technology</td>\n",
        "      <td>     Middle</td>\n",
        "      <td> 63.0</td>\n",
        "      <td> B</td>\n",
        "      <td> 70.4</td>\n",
        "      <td> A</td>\n",
        "      <td> 60.8</td>\n",
        "      <td> A</td>\n",
        "      <td> 62.9</td>\n",
        "      <td> A</td>\n",
        "      <td> 102.0</td>\n",
        "      <td> A</td>\n",
        "      <td> 68.7</td>\n",
        "      <td> A</td>\n",
        "      <td> 78.1</td>\n",
        "      <td> A</td>\n",
        "      <td> 64.799754</td>\n",
        "      <td>-154.840511</td>\n",
        "    </tr>\n",
        "    <tr>\n",
        "      <th>4</th>\n",
        "      <td> 07X298</td>\n",
        "      <td>                       Academy of Public Relations</td>\n",
        "      <td>     Middle</td>\n",
        "      <td> 44.4</td>\n",
        "      <td> C</td>\n",
        "      <td> 66.5</td>\n",
        "      <td> A</td>\n",
        "      <td> 61.9</td>\n",
        "      <td> A</td>\n",
        "      <td> 65.7</td>\n",
        "      <td> A</td>\n",
        "      <td>  82.6</td>\n",
        "      <td> A</td>\n",
        "      <td> 54.2</td>\n",
        "      <td> B</td>\n",
        "      <td> 68.6</td>\n",
        "      <td> A</td>\n",
        "      <td> 62.246739</td>\n",
        "      <td>-110.688049</td>\n",
        "    </tr>\n",
        "  </tbody>\n",
        "</table>\n",
        "</div>"
       ],
       "metadata": {},
       "output_type": "pyout",
       "prompt_number": 21,
       "text": [
        "      DBN                                             School School_Type  \\\n",
        "0  24Q877  The 51 Avenue Academy (The Path To Academic Ex...  Elementary   \n",
        "1  17K382  Academy for College Preparation and Career Exp...      Middle   \n",
        "2  30Q235                          Academy for New Americans      Middle   \n",
        "3  07X343      Academy of Applied Mathematics and Technology      Middle   \n",
        "4  07X298                        Academy of Public Relations      Middle   \n",
        "\n",
        "   2012_13_SCORE 2012_13_GRADE  2011_12_SCORE 2011_12_GRADE  2010_11_SCORE  \\\n",
        "0           59.4             B           78.2             A           77.2   \n",
        "1           36.1             D           44.4             C           47.7   \n",
        "2           78.0             A           87.6             A           71.7   \n",
        "3           63.0             B           70.4             A           60.8   \n",
        "4           44.4             C           66.5             A           61.9   \n",
        "\n",
        "  2010_11_GRADE  2009_10_SCORE 2009_10_GRADE  2008_09_SCORE 2008_09_GRADE  \\\n",
        "0             A           78.1             A           95.7             A   \n",
        "1             B           28.8             D           52.3             C   \n",
        "2             A           74.6             A           97.2             A   \n",
        "3             A           62.9             A          102.0             A   \n",
        "4             A           65.7             A           82.6             A   \n",
        "\n",
        "   2007_08_SCORE 2007_08_GARDE  2006_07_SCORE 2006_07_GRADE  auto_pred_2012  \\\n",
        "0           79.0             A           49.7             C       73.400170   \n",
        "1           76.3             A            NaN                     51.742086   \n",
        "2           89.9             A            NaN                     71.729032   \n",
        "3           68.7             A           78.1             A       64.799754   \n",
        "4           54.2             B           68.6             A       62.246739   \n",
        "\n",
        "   auto_pred_2013  \n",
        "0     -179.214044  \n",
        "1     -197.223767  \n",
        "2     -220.614215  \n",
        "3     -154.840511  \n",
        "4     -110.688049  "
       ]
      }
     ],
     "prompt_number": 21
    },
    {
     "cell_type": "code",
     "collapsed": false,
     "input": [
      "RMSE_auto_test = ((df['auto_pred_2013']-df['2012_13_SCORE'])**2).mean()**(0.5)\n",
      "print \"RMSE of autoregression on test data: \" +  str(RMSE_auto_test)"
     ],
     "language": "python",
     "metadata": {},
     "outputs": [
      {
       "output_type": "stream",
       "stream": "stdout",
       "text": [
        "RMSE of autoregression on test data: 190.770619816\n"
       ]
      }
     ],
     "prompt_number": 22
    },
    {
     "cell_type": "code",
     "collapsed": false,
     "input": [
      "coef = model.coef_\n",
      "print \"coefficients of autoregression: \" + str(coef)"
     ],
     "language": "python",
     "metadata": {},
     "outputs": [
      {
       "output_type": "stream",
       "stream": "stdout",
       "text": [
        "coefficients of autoregression: [[ 0.01039912  0.12660467  0.06286259  0.22664823  0.21920321 -3.36014866\n",
        "   1.50324654  3.5692192  -1.82567115  2.9729991 ]]\n"
       ]
      }
     ],
     "prompt_number": 23
    },
    {
     "cell_type": "code",
     "collapsed": false,
     "input": [
      "inter = model.intercept_\n",
      "print \"intercept of autoregression: \" + str(inter)"
     ],
     "language": "python",
     "metadata": {},
     "outputs": [
      {
       "output_type": "stream",
       "stream": "stdout",
       "text": [
        "intercept of autoregression: [ 11.58773916]\n"
       ]
      }
     ],
     "prompt_number": 24
    },
    {
     "cell_type": "code",
     "collapsed": false,
     "input": [],
     "language": "python",
     "metadata": {},
     "outputs": []
    }
   ],
   "metadata": {}
  }
 ]
}