{
 "metadata": {
  "name": "",
  "signature": "sha256:f6e527b06e10023dba7ce6b1f61f4982905009926808a547492a1b781d7582e8"
 },
 "nbformat": 3,
 "nbformat_minor": 0,
 "worksheets": [
  {
   "cells": [
    {
     "cell_type": "code",
     "collapsed": false,
     "input": [
      "import MySQLdb\n",
      "import pandas.io.sql as psql\n",
      "from pandas import *\n",
      "import numpy as np"
     ],
     "language": "python",
     "metadata": {},
     "outputs": [],
     "prompt_number": 18
    },
    {
     "cell_type": "code",
     "collapsed": false,
     "input": [
      "mydb = MySQLdb.connect(host='localhost',\n",
      "    user='root',\n",
      "    passwd='password',\n",
      "    db='school')"
     ],
     "language": "python",
     "metadata": {},
     "outputs": [],
     "prompt_number": 2
    },
    {
     "cell_type": "code",
     "collapsed": false,
     "input": [
      "df_mysql = psql.read_sql('SELECT * FROM Multiyear', con=mydb)"
     ],
     "language": "python",
     "metadata": {},
     "outputs": [],
     "prompt_number": 53
    },
    {
     "cell_type": "code",
     "collapsed": false,
     "input": [
      "df_mysql.head()"
     ],
     "language": "python",
     "metadata": {},
     "outputs": [
      {
       "html": [
        "<div style=\"max-height:1000px;max-width:1500px;overflow:auto;\">\n",
        "<table border=\"1\" class=\"dataframe\">\n",
        "  <thead>\n",
        "    <tr style=\"text-align: right;\">\n",
        "      <th></th>\n",
        "      <th>BN</th>\n",
        "      <th>SCHOOL_NAME</th>\n",
        "      <th>PROGRESS_REPORT_TYPE</th>\n",
        "      <th>2012_2013</th>\n",
        "      <th>2011_2012</th>\n",
        "      <th>2010_11</th>\n",
        "      <th>2009_10</th>\n",
        "      <th>2008_09</th>\n",
        "      <th>2007_08</th>\n",
        "      <th>2006_07</th>\n",
        "    </tr>\n",
        "  </thead>\n",
        "  <tbody>\n",
        "    <tr>\n",
        "      <th>0</th>\n",
        "      <td> K036</td>\n",
        "      <td>   P.S. 36</td>\n",
        "      <td> D75</td>\n",
        "      <td>    B</td>\n",
        "      <td>    C</td>\n",
        "      <td> A</td>\n",
        "      <td> C</td>\n",
        "      <td> None</td>\n",
        "      <td> None</td>\n",
        "      <td> None</td>\n",
        "    </tr>\n",
        "    <tr>\n",
        "      <th>1</th>\n",
        "      <td> K036</td>\n",
        "      <td>   P.S. 37</td>\n",
        "      <td> D75</td>\n",
        "      <td>    B</td>\n",
        "      <td>    C</td>\n",
        "      <td> A</td>\n",
        "      <td> C</td>\n",
        "      <td> None</td>\n",
        "      <td> None</td>\n",
        "      <td> None</td>\n",
        "    </tr>\n",
        "    <tr>\n",
        "      <th>2</th>\n",
        "      <td> K053</td>\n",
        "      <td> P.S. K053</td>\n",
        "      <td> D75</td>\n",
        "      <td> None</td>\n",
        "      <td>    A</td>\n",
        "      <td> A</td>\n",
        "      <td> B</td>\n",
        "      <td> None</td>\n",
        "      <td> None</td>\n",
        "      <td> None</td>\n",
        "    </tr>\n",
        "    <tr>\n",
        "      <th>3</th>\n",
        "      <td> K140</td>\n",
        "      <td> P.S. K140</td>\n",
        "      <td> D75</td>\n",
        "      <td>    F</td>\n",
        "      <td>    D</td>\n",
        "      <td> F</td>\n",
        "      <td> D</td>\n",
        "      <td> None</td>\n",
        "      <td> None</td>\n",
        "      <td> None</td>\n",
        "    </tr>\n",
        "    <tr>\n",
        "      <th>4</th>\n",
        "      <td> K141</td>\n",
        "      <td> P.S. K141</td>\n",
        "      <td> D75</td>\n",
        "      <td> None</td>\n",
        "      <td> None</td>\n",
        "      <td> C</td>\n",
        "      <td> B</td>\n",
        "      <td> None</td>\n",
        "      <td> None</td>\n",
        "      <td> None</td>\n",
        "    </tr>\n",
        "  </tbody>\n",
        "</table>\n",
        "</div>"
       ],
       "metadata": {},
       "output_type": "pyout",
       "prompt_number": 54,
       "text": [
        "     BN SCHOOL_NAME PROGRESS_REPORT_TYPE 2012_2013 2011_2012 2010_11 2009_10  \\\n",
        "0  K036     P.S. 36                  D75         B         C       A       C   \n",
        "1  K036     P.S. 37                  D75         B         C       A       C   \n",
        "2  K053   P.S. K053                  D75      None         A       A       B   \n",
        "3  K140   P.S. K140                  D75         F         D       F       D   \n",
        "4  K141   P.S. K141                  D75      None      None       C       B   \n",
        "\n",
        "  2008_09 2007_08 2006_07  \n",
        "0    None    None    None  \n",
        "1    None    None    None  \n",
        "2    None    None    None  \n",
        "3    None    None    None  \n",
        "4    None    None    None  "
       ]
      }
     ],
     "prompt_number": 54
    },
    {
     "cell_type": "code",
     "collapsed": false,
     "input": [
      "conv_dict={'A':5.,'B':4.,'C':3.,'D':2.,'F':1,'None':np.nan}\n",
      "df = df_mysql[['BN','SCHOOL_NAME']]"
     ],
     "language": "python",
     "metadata": {},
     "outputs": [],
     "prompt_number": 66
    },
    {
     "cell_type": "code",
     "collapsed": false,
     "input": [
      "df['2012_2013'] = df_mysql['2012_2013'].apply(conv_dict.get)\n",
      "df['2011_2012'] = df_mysql['2011_2012'].apply(conv_dict.get)\n",
      "df['2010_2011'] = df_mysql['2010_11'].apply(conv_dict.get)\n",
      "df['2009_2010'] = df_mysql['2009_10'].apply(conv_dict.get)\n",
      "df['2008_2009'] = df_mysql['2008_09'].apply(conv_dict.get)\n",
      "df['2007_2008'] = df_mysql['2007_08'].apply(conv_dict.get)\n",
      "df['2006_2007'] = df_mysql['2006_07'].apply(conv_dict.get)"
     ],
     "language": "python",
     "metadata": {},
     "outputs": [],
     "prompt_number": 67
    },
    {
     "cell_type": "code",
     "collapsed": false,
     "input": [
      "df.head()"
     ],
     "language": "python",
     "metadata": {},
     "outputs": [
      {
       "html": [
        "<div style=\"max-height:1000px;max-width:1500px;overflow:auto;\">\n",
        "<table border=\"1\" class=\"dataframe\">\n",
        "  <thead>\n",
        "    <tr style=\"text-align: right;\">\n",
        "      <th></th>\n",
        "      <th>BN</th>\n",
        "      <th>SCHOOL_NAME</th>\n",
        "      <th>2012_2013</th>\n",
        "      <th>2011_2012</th>\n",
        "      <th>2010_2011</th>\n",
        "      <th>2009_2010</th>\n",
        "      <th>2008_2009</th>\n",
        "      <th>2007_2008</th>\n",
        "      <th>2006_2007</th>\n",
        "    </tr>\n",
        "  </thead>\n",
        "  <tbody>\n",
        "    <tr>\n",
        "      <th>0</th>\n",
        "      <td> K036</td>\n",
        "      <td>   P.S. 36</td>\n",
        "      <td>  4</td>\n",
        "      <td>  3</td>\n",
        "      <td> 5</td>\n",
        "      <td> 3</td>\n",
        "      <td>NaN</td>\n",
        "      <td>NaN</td>\n",
        "      <td>NaN</td>\n",
        "    </tr>\n",
        "    <tr>\n",
        "      <th>1</th>\n",
        "      <td> K036</td>\n",
        "      <td>   P.S. 37</td>\n",
        "      <td>  4</td>\n",
        "      <td>  3</td>\n",
        "      <td> 5</td>\n",
        "      <td> 3</td>\n",
        "      <td>NaN</td>\n",
        "      <td>NaN</td>\n",
        "      <td>NaN</td>\n",
        "    </tr>\n",
        "    <tr>\n",
        "      <th>2</th>\n",
        "      <td> K053</td>\n",
        "      <td> P.S. K053</td>\n",
        "      <td>NaN</td>\n",
        "      <td>  5</td>\n",
        "      <td> 5</td>\n",
        "      <td> 4</td>\n",
        "      <td>NaN</td>\n",
        "      <td>NaN</td>\n",
        "      <td>NaN</td>\n",
        "    </tr>\n",
        "    <tr>\n",
        "      <th>3</th>\n",
        "      <td> K140</td>\n",
        "      <td> P.S. K140</td>\n",
        "      <td>  1</td>\n",
        "      <td>  2</td>\n",
        "      <td> 1</td>\n",
        "      <td> 2</td>\n",
        "      <td>NaN</td>\n",
        "      <td>NaN</td>\n",
        "      <td>NaN</td>\n",
        "    </tr>\n",
        "    <tr>\n",
        "      <th>4</th>\n",
        "      <td> K141</td>\n",
        "      <td> P.S. K141</td>\n",
        "      <td>NaN</td>\n",
        "      <td>NaN</td>\n",
        "      <td> 3</td>\n",
        "      <td> 4</td>\n",
        "      <td>NaN</td>\n",
        "      <td>NaN</td>\n",
        "      <td>NaN</td>\n",
        "    </tr>\n",
        "  </tbody>\n",
        "</table>\n",
        "</div>"
       ],
       "metadata": {},
       "output_type": "pyout",
       "prompt_number": 68,
       "text": [
        "     BN SCHOOL_NAME  2012_2013  2011_2012  2010_2011  2009_2010  2008_2009  \\\n",
        "0  K036     P.S. 36          4          3          5          3        NaN   \n",
        "1  K036     P.S. 37          4          3          5          3        NaN   \n",
        "2  K053   P.S. K053        NaN          5          5          4        NaN   \n",
        "3  K140   P.S. K140          1          2          1          2        NaN   \n",
        "4  K141   P.S. K141        NaN        NaN          3          4        NaN   \n",
        "\n",
        "   2007_2008  2006_2007  \n",
        "0        NaN        NaN  \n",
        "1        NaN        NaN  \n",
        "2        NaN        NaN  \n",
        "3        NaN        NaN  \n",
        "4        NaN        NaN  "
       ]
      }
     ],
     "prompt_number": 68
    },
    {
     "cell_type": "code",
     "collapsed": false,
     "input": [
      "df['2012_2013'].median()"
     ],
     "language": "python",
     "metadata": {},
     "outputs": [
      {
       "metadata": {},
       "output_type": "pyout",
       "prompt_number": 70,
       "text": [
        "4.0"
       ]
      }
     ],
     "prompt_number": 70
    },
    {
     "cell_type": "code",
     "collapsed": false,
     "input": [
      "df['2011_2012'].median()"
     ],
     "language": "python",
     "metadata": {},
     "outputs": [
      {
       "metadata": {},
       "output_type": "pyout",
       "prompt_number": 71,
       "text": [
        "4.0"
       ]
      }
     ],
     "prompt_number": 71
    },
    {
     "cell_type": "code",
     "collapsed": false,
     "input": [
      "df['2010_2011'].median()"
     ],
     "language": "python",
     "metadata": {},
     "outputs": [
      {
       "metadata": {},
       "output_type": "pyout",
       "prompt_number": 72,
       "text": [
        "4.0"
       ]
      }
     ],
     "prompt_number": 72
    },
    {
     "cell_type": "code",
     "collapsed": false,
     "input": [
      "df['2009_2010'].median()"
     ],
     "language": "python",
     "metadata": {},
     "outputs": [
      {
       "metadata": {},
       "output_type": "pyout",
       "prompt_number": 73,
       "text": [
        "4.0"
       ]
      }
     ],
     "prompt_number": 73
    },
    {
     "cell_type": "code",
     "collapsed": false,
     "input": [
      "df['2008_2009'].median()"
     ],
     "language": "python",
     "metadata": {},
     "outputs": [
      {
       "metadata": {},
       "output_type": "pyout",
       "prompt_number": 74,
       "text": [
        "5.0"
       ]
      }
     ],
     "prompt_number": 74
    },
    {
     "cell_type": "code",
     "collapsed": false,
     "input": [
      "df['2007_2008'].median()"
     ],
     "language": "python",
     "metadata": {},
     "outputs": [
      {
       "metadata": {},
       "output_type": "pyout",
       "prompt_number": 75,
       "text": [
        "4.0"
       ]
      }
     ],
     "prompt_number": 75
    },
    {
     "cell_type": "code",
     "collapsed": false,
     "input": [
      "df['last_pred'] = df['2011_2012']"
     ],
     "language": "python",
     "metadata": {},
     "outputs": [],
     "prompt_number": 79
    },
    {
     "cell_type": "code",
     "collapsed": false,
     "input": [
      "df.head()"
     ],
     "language": "python",
     "metadata": {},
     "outputs": [
      {
       "html": [
        "<div style=\"max-height:1000px;max-width:1500px;overflow:auto;\">\n",
        "<table border=\"1\" class=\"dataframe\">\n",
        "  <thead>\n",
        "    <tr style=\"text-align: right;\">\n",
        "      <th></th>\n",
        "      <th>BN</th>\n",
        "      <th>SCHOOL_NAME</th>\n",
        "      <th>2012_2013</th>\n",
        "      <th>2011_2012</th>\n",
        "      <th>2010_2011</th>\n",
        "      <th>2009_2010</th>\n",
        "      <th>2008_2009</th>\n",
        "      <th>2007_2008</th>\n",
        "      <th>2006_2007</th>\n",
        "      <th>last_pred</th>\n",
        "    </tr>\n",
        "  </thead>\n",
        "  <tbody>\n",
        "    <tr>\n",
        "      <th>0</th>\n",
        "      <td> K036</td>\n",
        "      <td>   P.S. 36</td>\n",
        "      <td>  4</td>\n",
        "      <td>  3</td>\n",
        "      <td> 5</td>\n",
        "      <td> 3</td>\n",
        "      <td>NaN</td>\n",
        "      <td>NaN</td>\n",
        "      <td>NaN</td>\n",
        "      <td>  3</td>\n",
        "    </tr>\n",
        "    <tr>\n",
        "      <th>1</th>\n",
        "      <td> K036</td>\n",
        "      <td>   P.S. 37</td>\n",
        "      <td>  4</td>\n",
        "      <td>  3</td>\n",
        "      <td> 5</td>\n",
        "      <td> 3</td>\n",
        "      <td>NaN</td>\n",
        "      <td>NaN</td>\n",
        "      <td>NaN</td>\n",
        "      <td>  3</td>\n",
        "    </tr>\n",
        "    <tr>\n",
        "      <th>2</th>\n",
        "      <td> K053</td>\n",
        "      <td> P.S. K053</td>\n",
        "      <td>NaN</td>\n",
        "      <td>  5</td>\n",
        "      <td> 5</td>\n",
        "      <td> 4</td>\n",
        "      <td>NaN</td>\n",
        "      <td>NaN</td>\n",
        "      <td>NaN</td>\n",
        "      <td>  5</td>\n",
        "    </tr>\n",
        "    <tr>\n",
        "      <th>3</th>\n",
        "      <td> K140</td>\n",
        "      <td> P.S. K140</td>\n",
        "      <td>  1</td>\n",
        "      <td>  2</td>\n",
        "      <td> 1</td>\n",
        "      <td> 2</td>\n",
        "      <td>NaN</td>\n",
        "      <td>NaN</td>\n",
        "      <td>NaN</td>\n",
        "      <td>  2</td>\n",
        "    </tr>\n",
        "    <tr>\n",
        "      <th>4</th>\n",
        "      <td> K141</td>\n",
        "      <td> P.S. K141</td>\n",
        "      <td>NaN</td>\n",
        "      <td>NaN</td>\n",
        "      <td> 3</td>\n",
        "      <td> 4</td>\n",
        "      <td>NaN</td>\n",
        "      <td>NaN</td>\n",
        "      <td>NaN</td>\n",
        "      <td>NaN</td>\n",
        "    </tr>\n",
        "  </tbody>\n",
        "</table>\n",
        "</div>"
       ],
       "metadata": {},
       "output_type": "pyout",
       "prompt_number": 80,
       "text": [
        "     BN SCHOOL_NAME  2012_2013  2011_2012  2010_2011  2009_2010  2008_2009  \\\n",
        "0  K036     P.S. 36          4          3          5          3        NaN   \n",
        "1  K036     P.S. 37          4          3          5          3        NaN   \n",
        "2  K053   P.S. K053        NaN          5          5          4        NaN   \n",
        "3  K140   P.S. K140          1          2          1          2        NaN   \n",
        "4  K141   P.S. K141        NaN        NaN          3          4        NaN   \n",
        "\n",
        "   2007_2008  2006_2007  last_pred  \n",
        "0        NaN        NaN          3  \n",
        "1        NaN        NaN          3  \n",
        "2        NaN        NaN          5  \n",
        "3        NaN        NaN          2  \n",
        "4        NaN        NaN        NaN  "
       ]
      }
     ],
     "prompt_number": 80
    },
    {
     "cell_type": "code",
     "collapsed": false,
     "input": [
      "df['median_pred'] = df['2011_2012'].median()"
     ],
     "language": "python",
     "metadata": {},
     "outputs": [],
     "prompt_number": 81
    },
    {
     "cell_type": "code",
     "collapsed": false,
     "input": [
      "df.head()"
     ],
     "language": "python",
     "metadata": {},
     "outputs": [
      {
       "html": [
        "<div style=\"max-height:1000px;max-width:1500px;overflow:auto;\">\n",
        "<table border=\"1\" class=\"dataframe\">\n",
        "  <thead>\n",
        "    <tr style=\"text-align: right;\">\n",
        "      <th></th>\n",
        "      <th>BN</th>\n",
        "      <th>SCHOOL_NAME</th>\n",
        "      <th>2012_2013</th>\n",
        "      <th>2011_2012</th>\n",
        "      <th>2010_2011</th>\n",
        "      <th>2009_2010</th>\n",
        "      <th>2008_2009</th>\n",
        "      <th>2007_2008</th>\n",
        "      <th>2006_2007</th>\n",
        "      <th>last_pred</th>\n",
        "      <th>median_pred</th>\n",
        "    </tr>\n",
        "  </thead>\n",
        "  <tbody>\n",
        "    <tr>\n",
        "      <th>0</th>\n",
        "      <td> K036</td>\n",
        "      <td>   P.S. 36</td>\n",
        "      <td>  4</td>\n",
        "      <td>  3</td>\n",
        "      <td> 5</td>\n",
        "      <td> 3</td>\n",
        "      <td>NaN</td>\n",
        "      <td>NaN</td>\n",
        "      <td>NaN</td>\n",
        "      <td>  3</td>\n",
        "      <td> 4</td>\n",
        "    </tr>\n",
        "    <tr>\n",
        "      <th>1</th>\n",
        "      <td> K036</td>\n",
        "      <td>   P.S. 37</td>\n",
        "      <td>  4</td>\n",
        "      <td>  3</td>\n",
        "      <td> 5</td>\n",
        "      <td> 3</td>\n",
        "      <td>NaN</td>\n",
        "      <td>NaN</td>\n",
        "      <td>NaN</td>\n",
        "      <td>  3</td>\n",
        "      <td> 4</td>\n",
        "    </tr>\n",
        "    <tr>\n",
        "      <th>2</th>\n",
        "      <td> K053</td>\n",
        "      <td> P.S. K053</td>\n",
        "      <td>NaN</td>\n",
        "      <td>  5</td>\n",
        "      <td> 5</td>\n",
        "      <td> 4</td>\n",
        "      <td>NaN</td>\n",
        "      <td>NaN</td>\n",
        "      <td>NaN</td>\n",
        "      <td>  5</td>\n",
        "      <td> 4</td>\n",
        "    </tr>\n",
        "    <tr>\n",
        "      <th>3</th>\n",
        "      <td> K140</td>\n",
        "      <td> P.S. K140</td>\n",
        "      <td>  1</td>\n",
        "      <td>  2</td>\n",
        "      <td> 1</td>\n",
        "      <td> 2</td>\n",
        "      <td>NaN</td>\n",
        "      <td>NaN</td>\n",
        "      <td>NaN</td>\n",
        "      <td>  2</td>\n",
        "      <td> 4</td>\n",
        "    </tr>\n",
        "    <tr>\n",
        "      <th>4</th>\n",
        "      <td> K141</td>\n",
        "      <td> P.S. K141</td>\n",
        "      <td>NaN</td>\n",
        "      <td>NaN</td>\n",
        "      <td> 3</td>\n",
        "      <td> 4</td>\n",
        "      <td>NaN</td>\n",
        "      <td>NaN</td>\n",
        "      <td>NaN</td>\n",
        "      <td>NaN</td>\n",
        "      <td> 4</td>\n",
        "    </tr>\n",
        "  </tbody>\n",
        "</table>\n",
        "</div>"
       ],
       "metadata": {},
       "output_type": "pyout",
       "prompt_number": 82,
       "text": [
        "     BN SCHOOL_NAME  2012_2013  2011_2012  2010_2011  2009_2010  2008_2009  \\\n",
        "0  K036     P.S. 36          4          3          5          3        NaN   \n",
        "1  K036     P.S. 37          4          3          5          3        NaN   \n",
        "2  K053   P.S. K053        NaN          5          5          4        NaN   \n",
        "3  K140   P.S. K140          1          2          1          2        NaN   \n",
        "4  K141   P.S. K141        NaN        NaN          3          4        NaN   \n",
        "\n",
        "   2007_2008  2006_2007  last_pred  median_pred  \n",
        "0        NaN        NaN          3            4  \n",
        "1        NaN        NaN          3            4  \n",
        "2        NaN        NaN          5            4  \n",
        "3        NaN        NaN          2            4  \n",
        "4        NaN        NaN        NaN            4  "
       ]
      }
     ],
     "prompt_number": 82
    },
    {
     "cell_type": "code",
     "collapsed": false,
     "input": [
      "RMSE_median = ((df['median_pred']-df['2012_2013'])**2).mean()**(0.5)\n",
      "RMSE_median"
     ],
     "language": "python",
     "metadata": {},
     "outputs": [
      {
       "metadata": {},
       "output_type": "pyout",
       "prompt_number": 98,
       "text": [
        "1.0201178334333099"
       ]
      }
     ],
     "prompt_number": 98
    },
    {
     "cell_type": "code",
     "collapsed": false,
     "input": [
      "RMSE_last = ((df['last_pred']-df['2012_2013'])**2).mean()**(0.5)\n",
      "RMSE_last"
     ],
     "language": "python",
     "metadata": {},
     "outputs": [
      {
       "metadata": {},
       "output_type": "pyout",
       "prompt_number": 100,
       "text": [
        "1.0089630473254048"
       ]
      }
     ],
     "prompt_number": 100
    },
    {
     "cell_type": "code",
     "collapsed": false,
     "input": [
      "df['median_indiv_pred'] = df[['2011_2012','2010_2011','2009_2010','2008_2009','2007_2008','2006_2007']].median(1)"
     ],
     "language": "python",
     "metadata": {},
     "outputs": [],
     "prompt_number": 117
    },
    {
     "cell_type": "code",
     "collapsed": false,
     "input": [
      "RMSE_median_indiv = ((df['median_indiv_pred']-df['2012_2013'])**2).mean()**(0.5)\n",
      "RMSE_median_indiv"
     ],
     "language": "python",
     "metadata": {},
     "outputs": [
      {
       "metadata": {},
       "output_type": "pyout",
       "prompt_number": 118,
       "text": [
        "0.97980572963355139"
       ]
      }
     ],
     "prompt_number": 118
    },
    {
     "cell_type": "code",
     "collapsed": false,
     "input": [],
     "language": "python",
     "metadata": {},
     "outputs": []
    }
   ],
   "metadata": {}
  }
 ]
}