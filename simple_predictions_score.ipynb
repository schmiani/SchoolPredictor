{
 "metadata": {
  "name": "",
  "signature": "sha256:57170a56a44c34d0b683afb1ed9897305236ce31a6be92f4a26e8e4dc2333c38"
 },
 "nbformat": 3,
 "nbformat_minor": 0,
 "worksheets": [
  {
   "cells": [
    {
     "cell_type": "code",
     "collapsed": false,
     "input": [
      "import MySQLdb\n",
      "import pandas.io.sql as psql\n",
      "from pandas import *\n",
      "import numpy as np\n",
      "import scipy.stats"
     ],
     "language": "python",
     "metadata": {},
     "outputs": [],
     "prompt_number": 1
    },
    {
     "cell_type": "code",
     "collapsed": false,
     "input": [
      "mydb = MySQLdb.connect(host='localhost',\n",
      "    user='root',\n",
      "    passwd='password',\n",
      "    db='school')"
     ],
     "language": "python",
     "metadata": {},
     "outputs": [],
     "prompt_number": 2
    },
    {
     "cell_type": "code",
     "collapsed": false,
     "input": [
      "df_mysql = psql.read_sql('SELECT * FROM allyears_EMS', con=mydb)"
     ],
     "language": "python",
     "metadata": {},
     "outputs": [],
     "prompt_number": 3
    },
    {
     "cell_type": "code",
     "collapsed": false,
     "input": [
      "df_mysql.head()"
     ],
     "language": "python",
     "metadata": {},
     "outputs": [
      {
       "html": [
        "<div style=\"max-height:1000px;max-width:1500px;overflow:auto;\">\n",
        "<table border=\"1\" class=\"dataframe\">\n",
        "  <thead>\n",
        "    <tr style=\"text-align: right;\">\n",
        "      <th></th>\n",
        "      <th>DBN</th>\n",
        "      <th>School</th>\n",
        "      <th>2012_13_SCORE</th>\n",
        "      <th>2011_12_SCORE</th>\n",
        "      <th>2010_11_SCORE</th>\n",
        "      <th>2009_10_SCORE</th>\n",
        "      <th>2008_09_SCORE</th>\n",
        "      <th>2007_08_SCORE</th>\n",
        "      <th>2006_07_SCORE</th>\n",
        "    </tr>\n",
        "  </thead>\n",
        "  <tbody>\n",
        "    <tr>\n",
        "      <th>0</th>\n",
        "      <td> 24Q877</td>\n",
        "      <td> The 51 Avenue Academy (The Path To Academic Ex...</td>\n",
        "      <td> 59.4</td>\n",
        "      <td> 78.2</td>\n",
        "      <td> 77.2</td>\n",
        "      <td> 78.1</td>\n",
        "      <td> 95.7</td>\n",
        "      <td> 79.0</td>\n",
        "      <td> 49.7</td>\n",
        "    </tr>\n",
        "    <tr>\n",
        "      <th>1</th>\n",
        "      <td> 24Q877</td>\n",
        "      <td> 51 Avenue Academy (The Path To Academic Excell...</td>\n",
        "      <td> 59.4</td>\n",
        "      <td> 78.2</td>\n",
        "      <td> 77.2</td>\n",
        "      <td> 78.1</td>\n",
        "      <td> 95.7</td>\n",
        "      <td> 79.0</td>\n",
        "      <td> 49.7</td>\n",
        "    </tr>\n",
        "    <tr>\n",
        "      <th>2</th>\n",
        "      <td> 24Q877</td>\n",
        "      <td> 51 AVENUE ACADEMY (THE PATH TO ACADEMIC EXCELL...</td>\n",
        "      <td> 59.4</td>\n",
        "      <td> 78.2</td>\n",
        "      <td> 77.2</td>\n",
        "      <td> 78.1</td>\n",
        "      <td> 95.7</td>\n",
        "      <td> 79.0</td>\n",
        "      <td> 49.7</td>\n",
        "    </tr>\n",
        "    <tr>\n",
        "      <th>3</th>\n",
        "      <td> 17K382</td>\n",
        "      <td> Academy for College Preparation and Career Exp...</td>\n",
        "      <td> 36.1</td>\n",
        "      <td> 44.4</td>\n",
        "      <td> 47.7</td>\n",
        "      <td> 28.8</td>\n",
        "      <td> 52.3</td>\n",
        "      <td> 76.3</td>\n",
        "      <td>  NaN</td>\n",
        "    </tr>\n",
        "    <tr>\n",
        "      <th>4</th>\n",
        "      <td> 17K382</td>\n",
        "      <td> Academy for College Preparation and Career Exp...</td>\n",
        "      <td> 36.1</td>\n",
        "      <td> 44.4</td>\n",
        "      <td> 47.7</td>\n",
        "      <td> 28.8</td>\n",
        "      <td> 52.3</td>\n",
        "      <td> 76.3</td>\n",
        "      <td>  NaN</td>\n",
        "    </tr>\n",
        "  </tbody>\n",
        "</table>\n",
        "</div>"
       ],
       "metadata": {},
       "output_type": "pyout",
       "prompt_number": 4,
       "text": [
        "      DBN                                             School  2012_13_SCORE  \\\n",
        "0  24Q877  The 51 Avenue Academy (The Path To Academic Ex...           59.4   \n",
        "1  24Q877  51 Avenue Academy (The Path To Academic Excell...           59.4   \n",
        "2  24Q877  51 AVENUE ACADEMY (THE PATH TO ACADEMIC EXCELL...           59.4   \n",
        "3  17K382  Academy for College Preparation and Career Exp...           36.1   \n",
        "4  17K382  Academy for College Preparation and Career Exp...           36.1   \n",
        "\n",
        "   2011_12_SCORE  2010_11_SCORE  2009_10_SCORE  2008_09_SCORE  2007_08_SCORE  \\\n",
        "0           78.2           77.2           78.1           95.7           79.0   \n",
        "1           78.2           77.2           78.1           95.7           79.0   \n",
        "2           78.2           77.2           78.1           95.7           79.0   \n",
        "3           44.4           47.7           28.8           52.3           76.3   \n",
        "4           44.4           47.7           28.8           52.3           76.3   \n",
        "\n",
        "   2006_07_SCORE  \n",
        "0           49.7  \n",
        "1           49.7  \n",
        "2           49.7  \n",
        "3            NaN  \n",
        "4            NaN  "
       ]
      }
     ],
     "prompt_number": 4
    },
    {
     "cell_type": "code",
     "collapsed": false,
     "input": [
      "df_mysql['2012_13_SCORE'].median()"
     ],
     "language": "python",
     "metadata": {},
     "outputs": [
      {
       "metadata": {},
       "output_type": "pyout",
       "prompt_number": 5,
       "text": [
        "53.6"
       ]
      }
     ],
     "prompt_number": 5
    },
    {
     "cell_type": "code",
     "collapsed": false,
     "input": [
      "df_mysql['2011_12_SCORE'].median()"
     ],
     "language": "python",
     "metadata": {},
     "outputs": [
      {
       "metadata": {},
       "output_type": "pyout",
       "prompt_number": 6,
       "text": [
        "54.0"
       ]
      }
     ],
     "prompt_number": 6
    },
    {
     "cell_type": "code",
     "collapsed": false,
     "input": [
      "df_mysql['2010_11_SCORE'].median()"
     ],
     "language": "python",
     "metadata": {},
     "outputs": [
      {
       "metadata": {},
       "output_type": "pyout",
       "prompt_number": 7,
       "text": [
        "45.0"
       ]
      }
     ],
     "prompt_number": 7
    },
    {
     "cell_type": "code",
     "collapsed": false,
     "input": [
      "df_mysql['2009_10_SCORE'].median()"
     ],
     "language": "python",
     "metadata": {},
     "outputs": [
      {
       "metadata": {},
       "output_type": "pyout",
       "prompt_number": 8,
       "text": [
        "46.0"
       ]
      }
     ],
     "prompt_number": 8
    },
    {
     "cell_type": "code",
     "collapsed": false,
     "input": [
      "df_mysql['2008_09_SCORE'].median()"
     ],
     "language": "python",
     "metadata": {},
     "outputs": [
      {
       "metadata": {},
       "output_type": "pyout",
       "prompt_number": 9,
       "text": [
        "81.0"
       ]
      }
     ],
     "prompt_number": 9
    },
    {
     "cell_type": "code",
     "collapsed": false,
     "input": [
      "df_mysql['2007_08_SCORE'].median()"
     ],
     "language": "python",
     "metadata": {},
     "outputs": [
      {
       "metadata": {},
       "output_type": "pyout",
       "prompt_number": 10,
       "text": [
        "58.0"
       ]
      }
     ],
     "prompt_number": 10
    },
    {
     "cell_type": "code",
     "collapsed": false,
     "input": [
      "df_mysql['2006_07_SCORE'].median()"
     ],
     "language": "python",
     "metadata": {},
     "outputs": [
      {
       "metadata": {},
       "output_type": "pyout",
       "prompt_number": 11,
       "text": [
        "53.55"
       ]
      }
     ],
     "prompt_number": 11
    },
    {
     "cell_type": "code",
     "collapsed": false,
     "input": [
      "fig = plt.figure()\n",
      "df_mysql['2012_13_SCORE'].hist()\n",
      "fig.savefig('2012_13_score_hist.png')"
     ],
     "language": "python",
     "metadata": {},
     "outputs": [
      {
       "metadata": {},
       "output_type": "display_data",
       "png": "[encoded data removed]",
       "text": [
        "<matplotlib.figure.Figure at 0x10dafc090>"
       ]
      }
     ],
     "prompt_number": 12
    },
    {
     "cell_type": "code",
     "collapsed": false,
     "input": [
      "fig = plt.figure()\n",
      "df_mysql['2011_12_SCORE'].hist()\n",
      "fig.savefig('2011_12_score_hist.png')"
     ],
     "language": "python",
     "metadata": {},
     "outputs": [
      {
       "metadata": {},
       "output_type": "display_data",
       "png": "[encoded data removed]",
       "text": [
        "<matplotlib.figure.Figure at 0x110d4fcd0>"
       ]
      }
     ],
     "prompt_number": 13
    },
    {
     "cell_type": "code",
     "collapsed": false,
     "input": [
      "fig = plt.figure()\n",
      "df_mysql['2010_11_SCORE'].hist()\n",
      "fig.savefig('2010_11_score_hist.png')"
     ],
     "language": "python",
     "metadata": {},
     "outputs": [
      {
       "metadata": {},
       "output_type": "display_data",
       "png": "[encoded data removed]",
       "text": [
        "<matplotlib.figure.Figure at 0x110f0bdd0>"
       ]
      }
     ],
     "prompt_number": 14
    },
    {
     "cell_type": "code",
     "collapsed": false,
     "input": [
      "fig = plt.figure()\n",
      "df_mysql['2009_10_SCORE'].hist()\n",
      "fig.savefig('2009_10_score_hist.png')"
     ],
     "language": "python",
     "metadata": {},
     "outputs": [
      {
       "metadata": {},
       "output_type": "display_data",
       "png": "[encoded data removed]",
       "text": [
        "<matplotlib.figure.Figure at 0x10afd0210>"
       ]
      }
     ],
     "prompt_number": 15
    },
    {
     "cell_type": "code",
     "collapsed": false,
     "input": [
      "fig = plt.figure()\n",
      "df_mysql['2008_09_SCORE'].hist()\n",
      "fig.savefig('2008_09_score_hist.png')"
     ],
     "language": "python",
     "metadata": {},
     "outputs": [
      {
       "metadata": {},
       "output_type": "display_data",
       "png": "[encoded data removed]",
       "text": [
        "<matplotlib.figure.Figure at 0x10daf5950>"
       ]
      }
     ],
     "prompt_number": 16
    },
    {
     "cell_type": "code",
     "collapsed": false,
     "input": [
      "fig = plt.figure()\n",
      "df_mysql['2007_08_SCORE'].hist()\n",
      "fig.savefig('2007_08_score_hist.png')"
     ],
     "language": "python",
     "metadata": {},
     "outputs": [
      {
       "metadata": {},
       "output_type": "display_data",
       "png": "[encoded data removed]",
       "text": [
        "<matplotlib.figure.Figure at 0x10daf5990>"
       ]
      }
     ],
     "prompt_number": 17
    },
    {
     "cell_type": "code",
     "collapsed": false,
     "input": [
      "fig = plt.figure()\n",
      "df_mysql['2006_07_SCORE'].hist()\n",
      "fig.savefig('2006_07_score_hist.png')"
     ],
     "language": "python",
     "metadata": {},
     "outputs": [
      {
       "metadata": {},
       "output_type": "display_data",
       "png": "[encoded data removed]",
       "text": [
        "<matplotlib.figure.Figure at 0x110ee4110>"
       ]
      }
     ],
     "prompt_number": 18
    },
    {
     "cell_type": "code",
     "collapsed": false,
     "input": [
      "df = df_mysql"
     ],
     "language": "python",
     "metadata": {},
     "outputs": [],
     "prompt_number": 19
    },
    {
     "cell_type": "code",
     "collapsed": false,
     "input": [
      "df['last_pred'] = df['2011_12_SCORE']"
     ],
     "language": "python",
     "metadata": {},
     "outputs": [],
     "prompt_number": 20
    },
    {
     "cell_type": "code",
     "collapsed": false,
     "input": [
      "df.head()"
     ],
     "language": "python",
     "metadata": {},
     "outputs": [
      {
       "html": [
        "<div style=\"max-height:1000px;max-width:1500px;overflow:auto;\">\n",
        "<table border=\"1\" class=\"dataframe\">\n",
        "  <thead>\n",
        "    <tr style=\"text-align: right;\">\n",
        "      <th></th>\n",
        "      <th>DBN</th>\n",
        "      <th>School</th>\n",
        "      <th>2012_13_SCORE</th>\n",
        "      <th>2011_12_SCORE</th>\n",
        "      <th>2010_11_SCORE</th>\n",
        "      <th>2009_10_SCORE</th>\n",
        "      <th>2008_09_SCORE</th>\n",
        "      <th>2007_08_SCORE</th>\n",
        "      <th>2006_07_SCORE</th>\n",
        "      <th>last_pred</th>\n",
        "    </tr>\n",
        "  </thead>\n",
        "  <tbody>\n",
        "    <tr>\n",
        "      <th>0</th>\n",
        "      <td> 24Q877</td>\n",
        "      <td> The 51 Avenue Academy (The Path To Academic Ex...</td>\n",
        "      <td> 59.4</td>\n",
        "      <td> 78.2</td>\n",
        "      <td> 77.2</td>\n",
        "      <td> 78.1</td>\n",
        "      <td> 95.7</td>\n",
        "      <td> 79.0</td>\n",
        "      <td> 49.7</td>\n",
        "      <td> 78.2</td>\n",
        "    </tr>\n",
        "    <tr>\n",
        "      <th>1</th>\n",
        "      <td> 24Q877</td>\n",
        "      <td> 51 Avenue Academy (The Path To Academic Excell...</td>\n",
        "      <td> 59.4</td>\n",
        "      <td> 78.2</td>\n",
        "      <td> 77.2</td>\n",
        "      <td> 78.1</td>\n",
        "      <td> 95.7</td>\n",
        "      <td> 79.0</td>\n",
        "      <td> 49.7</td>\n",
        "      <td> 78.2</td>\n",
        "    </tr>\n",
        "    <tr>\n",
        "      <th>2</th>\n",
        "      <td> 24Q877</td>\n",
        "      <td> 51 AVENUE ACADEMY (THE PATH TO ACADEMIC EXCELL...</td>\n",
        "      <td> 59.4</td>\n",
        "      <td> 78.2</td>\n",
        "      <td> 77.2</td>\n",
        "      <td> 78.1</td>\n",
        "      <td> 95.7</td>\n",
        "      <td> 79.0</td>\n",
        "      <td> 49.7</td>\n",
        "      <td> 78.2</td>\n",
        "    </tr>\n",
        "    <tr>\n",
        "      <th>3</th>\n",
        "      <td> 17K382</td>\n",
        "      <td> Academy for College Preparation and Career Exp...</td>\n",
        "      <td> 36.1</td>\n",
        "      <td> 44.4</td>\n",
        "      <td> 47.7</td>\n",
        "      <td> 28.8</td>\n",
        "      <td> 52.3</td>\n",
        "      <td> 76.3</td>\n",
        "      <td>  NaN</td>\n",
        "      <td> 44.4</td>\n",
        "    </tr>\n",
        "    <tr>\n",
        "      <th>4</th>\n",
        "      <td> 17K382</td>\n",
        "      <td> Academy for College Preparation and Career Exp...</td>\n",
        "      <td> 36.1</td>\n",
        "      <td> 44.4</td>\n",
        "      <td> 47.7</td>\n",
        "      <td> 28.8</td>\n",
        "      <td> 52.3</td>\n",
        "      <td> 76.3</td>\n",
        "      <td>  NaN</td>\n",
        "      <td> 44.4</td>\n",
        "    </tr>\n",
        "  </tbody>\n",
        "</table>\n",
        "</div>"
       ],
       "metadata": {},
       "output_type": "pyout",
       "prompt_number": 21,
       "text": [
        "      DBN                                             School  2012_13_SCORE  \\\n",
        "0  24Q877  The 51 Avenue Academy (The Path To Academic Ex...           59.4   \n",
        "1  24Q877  51 Avenue Academy (The Path To Academic Excell...           59.4   \n",
        "2  24Q877  51 AVENUE ACADEMY (THE PATH TO ACADEMIC EXCELL...           59.4   \n",
        "3  17K382  Academy for College Preparation and Career Exp...           36.1   \n",
        "4  17K382  Academy for College Preparation and Career Exp...           36.1   \n",
        "\n",
        "   2011_12_SCORE  2010_11_SCORE  2009_10_SCORE  2008_09_SCORE  2007_08_SCORE  \\\n",
        "0           78.2           77.2           78.1           95.7           79.0   \n",
        "1           78.2           77.2           78.1           95.7           79.0   \n",
        "2           78.2           77.2           78.1           95.7           79.0   \n",
        "3           44.4           47.7           28.8           52.3           76.3   \n",
        "4           44.4           47.7           28.8           52.3           76.3   \n",
        "\n",
        "   2006_07_SCORE  last_pred  \n",
        "0           49.7       78.2  \n",
        "1           49.7       78.2  \n",
        "2           49.7       78.2  \n",
        "3            NaN       44.4  \n",
        "4            NaN       44.4  "
       ]
      }
     ],
     "prompt_number": 21
    },
    {
     "cell_type": "code",
     "collapsed": false,
     "input": [
      "df['median_indiv_pred'] = df[['2011_12_SCORE','2010_11_SCORE','2009_10_SCORE','2008_09_SCORE','2007_08_SCORE','2006_07_SCORE']].median(1)\n",
      "df.head()"
     ],
     "language": "python",
     "metadata": {},
     "outputs": [
      {
       "html": [
        "<div style=\"max-height:1000px;max-width:1500px;overflow:auto;\">\n",
        "<table border=\"1\" class=\"dataframe\">\n",
        "  <thead>\n",
        "    <tr style=\"text-align: right;\">\n",
        "      <th></th>\n",
        "      <th>DBN</th>\n",
        "      <th>School</th>\n",
        "      <th>2012_13_SCORE</th>\n",
        "      <th>2011_12_SCORE</th>\n",
        "      <th>2010_11_SCORE</th>\n",
        "      <th>2009_10_SCORE</th>\n",
        "      <th>2008_09_SCORE</th>\n",
        "      <th>2007_08_SCORE</th>\n",
        "      <th>2006_07_SCORE</th>\n",
        "      <th>last_pred</th>\n",
        "      <th>median_indiv_pred</th>\n",
        "    </tr>\n",
        "  </thead>\n",
        "  <tbody>\n",
        "    <tr>\n",
        "      <th>0</th>\n",
        "      <td> 24Q877</td>\n",
        "      <td> The 51 Avenue Academy (The Path To Academic Ex...</td>\n",
        "      <td> 59.4</td>\n",
        "      <td> 78.2</td>\n",
        "      <td> 77.2</td>\n",
        "      <td> 78.1</td>\n",
        "      <td> 95.7</td>\n",
        "      <td> 79.0</td>\n",
        "      <td> 49.7</td>\n",
        "      <td> 78.2</td>\n",
        "      <td> 78.15</td>\n",
        "    </tr>\n",
        "    <tr>\n",
        "      <th>1</th>\n",
        "      <td> 24Q877</td>\n",
        "      <td> 51 Avenue Academy (The Path To Academic Excell...</td>\n",
        "      <td> 59.4</td>\n",
        "      <td> 78.2</td>\n",
        "      <td> 77.2</td>\n",
        "      <td> 78.1</td>\n",
        "      <td> 95.7</td>\n",
        "      <td> 79.0</td>\n",
        "      <td> 49.7</td>\n",
        "      <td> 78.2</td>\n",
        "      <td> 78.15</td>\n",
        "    </tr>\n",
        "    <tr>\n",
        "      <th>2</th>\n",
        "      <td> 24Q877</td>\n",
        "      <td> 51 AVENUE ACADEMY (THE PATH TO ACADEMIC EXCELL...</td>\n",
        "      <td> 59.4</td>\n",
        "      <td> 78.2</td>\n",
        "      <td> 77.2</td>\n",
        "      <td> 78.1</td>\n",
        "      <td> 95.7</td>\n",
        "      <td> 79.0</td>\n",
        "      <td> 49.7</td>\n",
        "      <td> 78.2</td>\n",
        "      <td> 78.15</td>\n",
        "    </tr>\n",
        "    <tr>\n",
        "      <th>3</th>\n",
        "      <td> 17K382</td>\n",
        "      <td> Academy for College Preparation and Career Exp...</td>\n",
        "      <td> 36.1</td>\n",
        "      <td> 44.4</td>\n",
        "      <td> 47.7</td>\n",
        "      <td> 28.8</td>\n",
        "      <td> 52.3</td>\n",
        "      <td> 76.3</td>\n",
        "      <td>  NaN</td>\n",
        "      <td> 44.4</td>\n",
        "      <td> 47.70</td>\n",
        "    </tr>\n",
        "    <tr>\n",
        "      <th>4</th>\n",
        "      <td> 17K382</td>\n",
        "      <td> Academy for College Preparation and Career Exp...</td>\n",
        "      <td> 36.1</td>\n",
        "      <td> 44.4</td>\n",
        "      <td> 47.7</td>\n",
        "      <td> 28.8</td>\n",
        "      <td> 52.3</td>\n",
        "      <td> 76.3</td>\n",
        "      <td>  NaN</td>\n",
        "      <td> 44.4</td>\n",
        "      <td> 47.70</td>\n",
        "    </tr>\n",
        "  </tbody>\n",
        "</table>\n",
        "</div>"
       ],
       "metadata": {},
       "output_type": "pyout",
       "prompt_number": 22,
       "text": [
        "      DBN                                             School  2012_13_SCORE  \\\n",
        "0  24Q877  The 51 Avenue Academy (The Path To Academic Ex...           59.4   \n",
        "1  24Q877  51 Avenue Academy (The Path To Academic Excell...           59.4   \n",
        "2  24Q877  51 AVENUE ACADEMY (THE PATH TO ACADEMIC EXCELL...           59.4   \n",
        "3  17K382  Academy for College Preparation and Career Exp...           36.1   \n",
        "4  17K382  Academy for College Preparation and Career Exp...           36.1   \n",
        "\n",
        "   2011_12_SCORE  2010_11_SCORE  2009_10_SCORE  2008_09_SCORE  2007_08_SCORE  \\\n",
        "0           78.2           77.2           78.1           95.7           79.0   \n",
        "1           78.2           77.2           78.1           95.7           79.0   \n",
        "2           78.2           77.2           78.1           95.7           79.0   \n",
        "3           44.4           47.7           28.8           52.3           76.3   \n",
        "4           44.4           47.7           28.8           52.3           76.3   \n",
        "\n",
        "   2006_07_SCORE  last_pred  median_indiv_pred  \n",
        "0           49.7       78.2              78.15  \n",
        "1           49.7       78.2              78.15  \n",
        "2           49.7       78.2              78.15  \n",
        "3            NaN       44.4              47.70  \n",
        "4            NaN       44.4              47.70  "
       ]
      }
     ],
     "prompt_number": 22
    },
    {
     "cell_type": "code",
     "collapsed": false,
     "input": [
      "df['mean_indiv_pred'] = df[['2011_12_SCORE','2010_11_SCORE','2009_10_SCORE','2008_09_SCORE','2007_08_SCORE','2006_07_SCORE']].mean(1)"
     ],
     "language": "python",
     "metadata": {},
     "outputs": [],
     "prompt_number": 23
    },
    {
     "cell_type": "code",
     "collapsed": false,
     "input": [
      "n = df.shape[0]\n",
      "n"
     ],
     "language": "python",
     "metadata": {},
     "outputs": [
      {
       "metadata": {},
       "output_type": "pyout",
       "prompt_number": 24,
       "text": [
        "2291"
       ]
      }
     ],
     "prompt_number": 24
    },
    {
     "cell_type": "code",
     "collapsed": false,
     "input": [
      "sum(df['2012_13_SCORE'].isnull())"
     ],
     "language": "python",
     "metadata": {},
     "outputs": [
      {
       "metadata": {},
       "output_type": "pyout",
       "prompt_number": 25,
       "text": [
        "193"
       ]
      }
     ],
     "prompt_number": 25
    },
    {
     "cell_type": "code",
     "collapsed": false,
     "input": [
      "RMSE_last = ((df['last_pred']-df['2012_13_SCORE'])**2).mean()**(0.5)\n",
      "print \"RMSE for using last years score: \" + str(RMSE_last)"
     ],
     "language": "python",
     "metadata": {},
     "outputs": [
      {
       "output_type": "stream",
       "stream": "stdout",
       "text": [
        "RMSE for using last years score: 15.1025589767\n"
       ]
      }
     ],
     "prompt_number": 26
    },
    {
     "cell_type": "code",
     "collapsed": false,
     "input": [
      "last_notnull_perc = (df['last_pred']-df['2012_13_SCORE']).count()/float(df.shape[0])\n",
      "print str(last_notnull_perc) + \"% not Null\""
     ],
     "language": "python",
     "metadata": {},
     "outputs": [
      {
       "output_type": "stream",
       "stream": "stdout",
       "text": [
        "0.904408555216% not Null\n"
       ]
      }
     ],
     "prompt_number": 27
    },
    {
     "cell_type": "code",
     "collapsed": false,
     "input": [
      "RMSE_median_indiv = ((df['median_indiv_pred']-df['2012_13_SCORE'])**2).mean()**(0.5)\n",
      "print \"RMSE for using median over previous years: \" +  str(RMSE_median_indiv)"
     ],
     "language": "python",
     "metadata": {},
     "outputs": [
      {
       "output_type": "stream",
       "stream": "stdout",
       "text": [
        "RMSE for using median over previous years: 13.481442316\n"
       ]
      }
     ],
     "prompt_number": 28
    },
    {
     "cell_type": "code",
     "collapsed": false,
     "input": [
      "median_indiv_notull_perc = (df['median_indiv_pred']-df['2012_13_SCORE']).count()/float(df.shape[0])\n",
      "print str(median_indiv_notull_perc) + \"% not Null\""
     ],
     "language": "python",
     "metadata": {},
     "outputs": [
      {
       "output_type": "stream",
       "stream": "stdout",
       "text": [
        "0.904408555216% not Null\n"
       ]
      }
     ],
     "prompt_number": 29
    },
    {
     "cell_type": "code",
     "collapsed": false,
     "input": [
      "RMSE_mean_indiv = ((df['mean_indiv_pred']-df['2012_13_SCORE'])**2).mean()**(0.5)\n",
      "print \"RMSE for using mean over previous years: \" +  str(RMSE_mean_indiv)"
     ],
     "language": "python",
     "metadata": {},
     "outputs": [
      {
       "output_type": "stream",
       "stream": "stdout",
       "text": [
        "RMSE for using mean over previous years: 12.9488918885\n"
       ]
      }
     ],
     "prompt_number": 30
    },
    {
     "cell_type": "code",
     "collapsed": false,
     "input": [
      "mean_indiv_notull_perc = (df['mean_indiv_pred']-df['2012_13_SCORE']).count()/float(df.shape[0])\n",
      "print str(mean_indiv_notull_perc) + \"% not Null\""
     ],
     "language": "python",
     "metadata": {},
     "outputs": [
      {
       "output_type": "stream",
       "stream": "stdout",
       "text": [
        "0.904408555216% not Null\n"
       ]
      }
     ],
     "prompt_number": 31
    },
    {
     "cell_type": "code",
     "collapsed": false,
     "input": [
      "df['std'] = df[['2012_13_SCORE','2011_12_SCORE','2010_11_SCORE','2009_10_SCORE','2008_09_SCORE','2007_08_SCORE','2006_07_SCORE']].std(1)"
     ],
     "language": "python",
     "metadata": {},
     "outputs": [],
     "prompt_number": 32
    },
    {
     "cell_type": "code",
     "collapsed": false,
     "input": [
      "df.sort(columns='std',ascending=False).head()"
     ],
     "language": "python",
     "metadata": {},
     "outputs": [
      {
       "html": [
        "<div style=\"max-height:1000px;max-width:1500px;overflow:auto;\">\n",
        "<table border=\"1\" class=\"dataframe\">\n",
        "  <thead>\n",
        "    <tr style=\"text-align: right;\">\n",
        "      <th></th>\n",
        "      <th>DBN</th>\n",
        "      <th>School</th>\n",
        "      <th>2012_13_SCORE</th>\n",
        "      <th>2011_12_SCORE</th>\n",
        "      <th>2010_11_SCORE</th>\n",
        "      <th>2009_10_SCORE</th>\n",
        "      <th>2008_09_SCORE</th>\n",
        "      <th>2007_08_SCORE</th>\n",
        "      <th>2006_07_SCORE</th>\n",
        "      <th>last_pred</th>\n",
        "      <th>median_indiv_pred</th>\n",
        "      <th>mean_indiv_pred</th>\n",
        "      <th>std</th>\n",
        "    </tr>\n",
        "  </thead>\n",
        "  <tbody>\n",
        "    <tr>\n",
        "      <th>2249</th>\n",
        "      <td> 10X324</td>\n",
        "      <td> Bronx Early College Academy for Teaching &amp; Lea...</td>\n",
        "      <td>NaN</td>\n",
        "      <td>NaN</td>\n",
        "      <td>  NaN</td>\n",
        "      <td>  NaN</td>\n",
        "      <td> 94.0</td>\n",
        "      <td> 34.3</td>\n",
        "      <td>NaN</td>\n",
        "      <td>NaN</td>\n",
        "      <td> 64.15</td>\n",
        "      <td> 64.15</td>\n",
        "      <td> 42.214275</td>\n",
        "    </tr>\n",
        "    <tr>\n",
        "      <th>2250</th>\n",
        "      <td> 10X324</td>\n",
        "      <td> BRONX EARLY COLLEGE ACADEMY FOR TEACHING &amp; LEA...</td>\n",
        "      <td>NaN</td>\n",
        "      <td>NaN</td>\n",
        "      <td>  NaN</td>\n",
        "      <td>  NaN</td>\n",
        "      <td> 94.0</td>\n",
        "      <td> 34.3</td>\n",
        "      <td>NaN</td>\n",
        "      <td>NaN</td>\n",
        "      <td> 64.15</td>\n",
        "      <td> 64.15</td>\n",
        "      <td> 42.214275</td>\n",
        "    </tr>\n",
        "    <tr>\n",
        "      <th>2235</th>\n",
        "      <td> 13K592</td>\n",
        "      <td>              Khalil Gibran International Academy </td>\n",
        "      <td>NaN</td>\n",
        "      <td>NaN</td>\n",
        "      <td>  NaN</td>\n",
        "      <td> 16.3</td>\n",
        "      <td> 74.1</td>\n",
        "      <td>  NaN</td>\n",
        "      <td>NaN</td>\n",
        "      <td>NaN</td>\n",
        "      <td> 45.20</td>\n",
        "      <td> 45.20</td>\n",
        "      <td> 40.870772</td>\n",
        "    </tr>\n",
        "    <tr>\n",
        "      <th>2045</th>\n",
        "      <td> 11X270</td>\n",
        "      <td> Academy for Scholarship and Entrepreneurship: ...</td>\n",
        "      <td>NaN</td>\n",
        "      <td>NaN</td>\n",
        "      <td> 18.7</td>\n",
        "      <td> 11.7</td>\n",
        "      <td> 83.3</td>\n",
        "      <td>  NaN</td>\n",
        "      <td>NaN</td>\n",
        "      <td>NaN</td>\n",
        "      <td> 18.70</td>\n",
        "      <td> 37.90</td>\n",
        "      <td> 39.473029</td>\n",
        "    </tr>\n",
        "    <tr>\n",
        "      <th>2234</th>\n",
        "      <td> 84M355</td>\n",
        "      <td>               Ross Global Academy Charter School </td>\n",
        "      <td>NaN</td>\n",
        "      <td>NaN</td>\n",
        "      <td>  NaN</td>\n",
        "      <td>  0.1</td>\n",
        "      <td> 70.3</td>\n",
        "      <td> 61.0</td>\n",
        "      <td>NaN</td>\n",
        "      <td>NaN</td>\n",
        "      <td> 61.00</td>\n",
        "      <td> 43.80</td>\n",
        "      <td> 38.129910</td>\n",
        "    </tr>\n",
        "  </tbody>\n",
        "</table>\n",
        "</div>"
       ],
       "metadata": {},
       "output_type": "pyout",
       "prompt_number": 33,
       "text": [
        "         DBN                                             School  \\\n",
        "2249  10X324  Bronx Early College Academy for Teaching & Lea...   \n",
        "2250  10X324  BRONX EARLY COLLEGE ACADEMY FOR TEACHING & LEA...   \n",
        "2235  13K592               Khalil Gibran International Academy    \n",
        "2045  11X270  Academy for Scholarship and Entrepreneurship: ...   \n",
        "2234  84M355                Ross Global Academy Charter School    \n",
        "\n",
        "      2012_13_SCORE  2011_12_SCORE  2010_11_SCORE  2009_10_SCORE  \\\n",
        "2249            NaN            NaN            NaN            NaN   \n",
        "2250            NaN            NaN            NaN            NaN   \n",
        "2235            NaN            NaN            NaN           16.3   \n",
        "2045            NaN            NaN           18.7           11.7   \n",
        "2234            NaN            NaN            NaN            0.1   \n",
        "\n",
        "      2008_09_SCORE  2007_08_SCORE  2006_07_SCORE  last_pred  \\\n",
        "2249           94.0           34.3            NaN        NaN   \n",
        "2250           94.0           34.3            NaN        NaN   \n",
        "2235           74.1            NaN            NaN        NaN   \n",
        "2045           83.3            NaN            NaN        NaN   \n",
        "2234           70.3           61.0            NaN        NaN   \n",
        "\n",
        "      median_indiv_pred  mean_indiv_pred        std  \n",
        "2249              64.15            64.15  42.214275  \n",
        "2250              64.15            64.15  42.214275  \n",
        "2235              45.20            45.20  40.870772  \n",
        "2045              18.70            37.90  39.473029  \n",
        "2234              61.00            43.80  38.129910  "
       ]
      }
     ],
     "prompt_number": 33
    },
    {
     "cell_type": "code",
     "collapsed": false,
     "input": [],
     "language": "python",
     "metadata": {},
     "outputs": []
    }
   ],
   "metadata": {}
  }
 ]
}