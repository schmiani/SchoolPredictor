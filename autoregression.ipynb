{
 "metadata": {
  "name": "",
  "signature": "sha256:93b1f1a77e197dd8eebf132101638446b0d1391b9af76a23362e8710c674e569"
 },
 "nbformat": 3,
 "nbformat_minor": 0,
 "worksheets": [
  {
   "cells": [
    {
     "cell_type": "code",
     "collapsed": false,
     "input": [
      "import MySQLdb\n",
      "import pandas.io.sql as psql\n",
      "from pandas import *\n",
      "import numpy as np\n",
      "import scipy.stats\n",
      "import scipy\n",
      "from sklearn import linear_model\n",
      "from sklearn import preprocessing"
     ],
     "language": "python",
     "metadata": {},
     "outputs": [],
     "prompt_number": 1
    },
    {
     "cell_type": "code",
     "collapsed": false,
     "input": [
      "mydb = MySQLdb.connect(host='localhost',\n",
      "    user='root',\n",
      "    passwd='password',\n",
      "    db='school')"
     ],
     "language": "python",
     "metadata": {},
     "outputs": [],
     "prompt_number": 2
    },
    {
     "cell_type": "code",
     "collapsed": false,
     "input": [
      "df_mysql = psql.read_sql('SELECT * FROM allyears_ems', con=mydb)"
     ],
     "language": "python",
     "metadata": {},
     "outputs": [],
     "prompt_number": 3
    },
    {
     "cell_type": "code",
     "collapsed": false,
     "input": [
      "df_mysql.head()"
     ],
     "language": "python",
     "metadata": {},
     "outputs": [
      {
       "html": [
        "<div style=\"max-height:1000px;max-width:1500px;overflow:auto;\">\n",
        "<table border=\"1\" class=\"dataframe\">\n",
        "  <thead>\n",
        "    <tr style=\"text-align: right;\">\n",
        "      <th></th>\n",
        "      <th>DBN</th>\n",
        "      <th>School</th>\n",
        "      <th>2012_13_SCORE</th>\n",
        "      <th>2011_12_SCORE</th>\n",
        "      <th>2010_11_SCORE</th>\n",
        "      <th>2009_10_SCORE</th>\n",
        "      <th>2008_09_SCORE</th>\n",
        "      <th>2007_08_SCORE</th>\n",
        "      <th>2006_07_SCORE</th>\n",
        "    </tr>\n",
        "  </thead>\n",
        "  <tbody>\n",
        "    <tr>\n",
        "      <th>0</th>\n",
        "      <td> 24Q877</td>\n",
        "      <td> The 51 Avenue Academy (The Path To Academic Ex...</td>\n",
        "      <td> 59.4</td>\n",
        "      <td> 78.2</td>\n",
        "      <td> 77.2</td>\n",
        "      <td> 78.1</td>\n",
        "      <td> 95.7</td>\n",
        "      <td> 79.0</td>\n",
        "      <td> 49.7</td>\n",
        "    </tr>\n",
        "    <tr>\n",
        "      <th>1</th>\n",
        "      <td> 24Q877</td>\n",
        "      <td> 51 Avenue Academy (The Path To Academic Excell...</td>\n",
        "      <td> 59.4</td>\n",
        "      <td> 78.2</td>\n",
        "      <td> 77.2</td>\n",
        "      <td> 78.1</td>\n",
        "      <td> 95.7</td>\n",
        "      <td> 79.0</td>\n",
        "      <td> 49.7</td>\n",
        "    </tr>\n",
        "    <tr>\n",
        "      <th>2</th>\n",
        "      <td> 24Q877</td>\n",
        "      <td> 51 AVENUE ACADEMY (THE PATH TO ACADEMIC EXCELL...</td>\n",
        "      <td> 59.4</td>\n",
        "      <td> 78.2</td>\n",
        "      <td> 77.2</td>\n",
        "      <td> 78.1</td>\n",
        "      <td> 95.7</td>\n",
        "      <td> 79.0</td>\n",
        "      <td> 49.7</td>\n",
        "    </tr>\n",
        "    <tr>\n",
        "      <th>3</th>\n",
        "      <td> 17K382</td>\n",
        "      <td> Academy for College Preparation and Career Exp...</td>\n",
        "      <td> 36.1</td>\n",
        "      <td> 44.4</td>\n",
        "      <td> 47.7</td>\n",
        "      <td> 28.8</td>\n",
        "      <td> 52.3</td>\n",
        "      <td> 76.3</td>\n",
        "      <td>  NaN</td>\n",
        "    </tr>\n",
        "    <tr>\n",
        "      <th>4</th>\n",
        "      <td> 17K382</td>\n",
        "      <td> Academy for College Preparation and Career Exp...</td>\n",
        "      <td> 36.1</td>\n",
        "      <td> 44.4</td>\n",
        "      <td> 47.7</td>\n",
        "      <td> 28.8</td>\n",
        "      <td> 52.3</td>\n",
        "      <td> 76.3</td>\n",
        "      <td>  NaN</td>\n",
        "    </tr>\n",
        "  </tbody>\n",
        "</table>\n",
        "</div>"
       ],
       "metadata": {},
       "output_type": "pyout",
       "prompt_number": 4,
       "text": [
        "      DBN                                             School  2012_13_SCORE  \\\n",
        "0  24Q877  The 51 Avenue Academy (The Path To Academic Ex...           59.4   \n",
        "1  24Q877  51 Avenue Academy (The Path To Academic Excell...           59.4   \n",
        "2  24Q877  51 AVENUE ACADEMY (THE PATH TO ACADEMIC EXCELL...           59.4   \n",
        "3  17K382  Academy for College Preparation and Career Exp...           36.1   \n",
        "4  17K382  Academy for College Preparation and Career Exp...           36.1   \n",
        "\n",
        "   2011_12_SCORE  2010_11_SCORE  2009_10_SCORE  2008_09_SCORE  2007_08_SCORE  \\\n",
        "0           78.2           77.2           78.1           95.7           79.0   \n",
        "1           78.2           77.2           78.1           95.7           79.0   \n",
        "2           78.2           77.2           78.1           95.7           79.0   \n",
        "3           44.4           47.7           28.8           52.3           76.3   \n",
        "4           44.4           47.7           28.8           52.3           76.3   \n",
        "\n",
        "   2006_07_SCORE  \n",
        "0           49.7  \n",
        "1           49.7  \n",
        "2           49.7  \n",
        "3            NaN  \n",
        "4            NaN  "
       ]
      }
     ],
     "prompt_number": 4
    },
    {
     "cell_type": "code",
     "collapsed": false,
     "input": [
      "model = linear_model.LinearRegression()\n",
      "model"
     ],
     "language": "python",
     "metadata": {},
     "outputs": [
      {
       "metadata": {},
       "output_type": "pyout",
       "prompt_number": 5,
       "text": [
        "LinearRegression(copy_X=True, fit_intercept=True, normalize=False)"
       ]
      }
     ],
     "prompt_number": 5
    },
    {
     "cell_type": "code",
     "collapsed": false,
     "input": [
      "X = df_mysql[['2006_07_SCORE','2007_08_SCORE','2008_09_SCORE','2009_10_SCORE','2010_11_SCORE']]"
     ],
     "language": "python",
     "metadata": {},
     "outputs": [],
     "prompt_number": 6
    },
    {
     "cell_type": "code",
     "collapsed": false,
     "input": [
      "imputer = preprocessing.Imputer(strategy='median')\n",
      "imputer.fit(X)\n",
      "X_imputed = imputer.transform(X)"
     ],
     "language": "python",
     "metadata": {},
     "outputs": [],
     "prompt_number": 7
    },
    {
     "cell_type": "code",
     "collapsed": false,
     "input": [
      "y = df_mysql['2011_12_SCORE']\n",
      "imputer = preprocessing.Imputer(strategy='median',axis = 1)\n",
      "imputer.fit(y)\n",
      "y_imputed = imputer.transform(y)"
     ],
     "language": "python",
     "metadata": {},
     "outputs": [],
     "prompt_number": 8
    },
    {
     "cell_type": "code",
     "collapsed": false,
     "input": [
      "model.fit(X_imputed,transpose(y_imputed))"
     ],
     "language": "python",
     "metadata": {},
     "outputs": [
      {
       "metadata": {},
       "output_type": "pyout",
       "prompt_number": 9,
       "text": [
        "LinearRegression(copy_X=True, fit_intercept=True, normalize=False)"
       ]
      }
     ],
     "prompt_number": 9
    },
    {
     "cell_type": "code",
     "collapsed": false,
     "input": [
      "out = model.predict(X_imputed)"
     ],
     "language": "python",
     "metadata": {},
     "outputs": [],
     "prompt_number": 10
    },
    {
     "cell_type": "code",
     "collapsed": false,
     "input": [
      "model.score(X_imputed,transpose(y_imputed))"
     ],
     "language": "python",
     "metadata": {},
     "outputs": [
      {
       "metadata": {},
       "output_type": "pyout",
       "prompt_number": 11,
       "text": [
        "0.31417384801125536"
       ]
      }
     ],
     "prompt_number": 11
    },
    {
     "cell_type": "code",
     "collapsed": false,
     "input": [
      "df = df_mysql\n",
      "df['auto_pred_2012'] = DataFrame(out)"
     ],
     "language": "python",
     "metadata": {},
     "outputs": [],
     "prompt_number": 12
    },
    {
     "cell_type": "code",
     "collapsed": false,
     "input": [
      "df.head()"
     ],
     "language": "python",
     "metadata": {},
     "outputs": [
      {
       "html": [
        "<div style=\"max-height:1000px;max-width:1500px;overflow:auto;\">\n",
        "<table border=\"1\" class=\"dataframe\">\n",
        "  <thead>\n",
        "    <tr style=\"text-align: right;\">\n",
        "      <th></th>\n",
        "      <th>DBN</th>\n",
        "      <th>School</th>\n",
        "      <th>2012_13_SCORE</th>\n",
        "      <th>2011_12_SCORE</th>\n",
        "      <th>2010_11_SCORE</th>\n",
        "      <th>2009_10_SCORE</th>\n",
        "      <th>2008_09_SCORE</th>\n",
        "      <th>2007_08_SCORE</th>\n",
        "      <th>2006_07_SCORE</th>\n",
        "      <th>auto_pred_2012</th>\n",
        "    </tr>\n",
        "  </thead>\n",
        "  <tbody>\n",
        "    <tr>\n",
        "      <th>0</th>\n",
        "      <td> 24Q877</td>\n",
        "      <td> The 51 Avenue Academy (The Path To Academic Ex...</td>\n",
        "      <td> 59.4</td>\n",
        "      <td> 78.2</td>\n",
        "      <td> 77.2</td>\n",
        "      <td> 78.1</td>\n",
        "      <td> 95.7</td>\n",
        "      <td> 79.0</td>\n",
        "      <td> 49.7</td>\n",
        "      <td> 73.419977</td>\n",
        "    </tr>\n",
        "    <tr>\n",
        "      <th>1</th>\n",
        "      <td> 24Q877</td>\n",
        "      <td> 51 Avenue Academy (The Path To Academic Excell...</td>\n",
        "      <td> 59.4</td>\n",
        "      <td> 78.2</td>\n",
        "      <td> 77.2</td>\n",
        "      <td> 78.1</td>\n",
        "      <td> 95.7</td>\n",
        "      <td> 79.0</td>\n",
        "      <td> 49.7</td>\n",
        "      <td> 73.419977</td>\n",
        "    </tr>\n",
        "    <tr>\n",
        "      <th>2</th>\n",
        "      <td> 24Q877</td>\n",
        "      <td> 51 AVENUE ACADEMY (THE PATH TO ACADEMIC EXCELL...</td>\n",
        "      <td> 59.4</td>\n",
        "      <td> 78.2</td>\n",
        "      <td> 77.2</td>\n",
        "      <td> 78.1</td>\n",
        "      <td> 95.7</td>\n",
        "      <td> 79.0</td>\n",
        "      <td> 49.7</td>\n",
        "      <td> 73.419977</td>\n",
        "    </tr>\n",
        "    <tr>\n",
        "      <th>3</th>\n",
        "      <td> 17K382</td>\n",
        "      <td> Academy for College Preparation and Career Exp...</td>\n",
        "      <td> 36.1</td>\n",
        "      <td> 44.4</td>\n",
        "      <td> 47.7</td>\n",
        "      <td> 28.8</td>\n",
        "      <td> 52.3</td>\n",
        "      <td> 76.3</td>\n",
        "      <td>  NaN</td>\n",
        "      <td> 51.521600</td>\n",
        "    </tr>\n",
        "    <tr>\n",
        "      <th>4</th>\n",
        "      <td> 17K382</td>\n",
        "      <td> Academy for College Preparation and Career Exp...</td>\n",
        "      <td> 36.1</td>\n",
        "      <td> 44.4</td>\n",
        "      <td> 47.7</td>\n",
        "      <td> 28.8</td>\n",
        "      <td> 52.3</td>\n",
        "      <td> 76.3</td>\n",
        "      <td>  NaN</td>\n",
        "      <td> 51.521600</td>\n",
        "    </tr>\n",
        "  </tbody>\n",
        "</table>\n",
        "</div>"
       ],
       "metadata": {},
       "output_type": "pyout",
       "prompt_number": 13,
       "text": [
        "      DBN                                             School  2012_13_SCORE  \\\n",
        "0  24Q877  The 51 Avenue Academy (The Path To Academic Ex...           59.4   \n",
        "1  24Q877  51 Avenue Academy (The Path To Academic Excell...           59.4   \n",
        "2  24Q877  51 AVENUE ACADEMY (THE PATH TO ACADEMIC EXCELL...           59.4   \n",
        "3  17K382  Academy for College Preparation and Career Exp...           36.1   \n",
        "4  17K382  Academy for College Preparation and Career Exp...           36.1   \n",
        "\n",
        "   2011_12_SCORE  2010_11_SCORE  2009_10_SCORE  2008_09_SCORE  2007_08_SCORE  \\\n",
        "0           78.2           77.2           78.1           95.7           79.0   \n",
        "1           78.2           77.2           78.1           95.7           79.0   \n",
        "2           78.2           77.2           78.1           95.7           79.0   \n",
        "3           44.4           47.7           28.8           52.3           76.3   \n",
        "4           44.4           47.7           28.8           52.3           76.3   \n",
        "\n",
        "   2006_07_SCORE  auto_pred_2012  \n",
        "0           49.7       73.419977  \n",
        "1           49.7       73.419977  \n",
        "2           49.7       73.419977  \n",
        "3            NaN       51.521600  \n",
        "4            NaN       51.521600  "
       ]
      }
     ],
     "prompt_number": 13
    },
    {
     "cell_type": "code",
     "collapsed": false,
     "input": [
      "RMSE_auto_train = ((df['auto_pred_2012']-df['2011_12_SCORE'])**2).mean()**(0.5)\n",
      "print \"RMSE of autoregression training data: \" +  str(RMSE_auto_train)"
     ],
     "language": "python",
     "metadata": {},
     "outputs": [
      {
       "output_type": "stream",
       "stream": "stdout",
       "text": [
        "RMSE of autoregression training data: 12.1909400157\n"
       ]
      }
     ],
     "prompt_number": 19
    },
    {
     "cell_type": "code",
     "collapsed": false,
     "input": [
      "X_test = df_mysql[['2007_08_SCORE','2008_09_SCORE','2009_10_SCORE','2010_11_SCORE','2011_12_SCORE']]"
     ],
     "language": "python",
     "metadata": {},
     "outputs": [],
     "prompt_number": 20
    },
    {
     "cell_type": "code",
     "collapsed": false,
     "input": [
      "imputer = preprocessing.Imputer(strategy='median')\n",
      "imputer.fit(X_test)\n",
      "X_test_imputed = imputer.transform(X_test)"
     ],
     "language": "python",
     "metadata": {},
     "outputs": [],
     "prompt_number": 21
    },
    {
     "cell_type": "code",
     "collapsed": false,
     "input": [
      "y_test = df_mysql['2012_13_SCORE']\n",
      "imputer = preprocessing.Imputer(strategy='median',axis = 1)\n",
      "imputer.fit(y_test)\n",
      "y_test_imputed = imputer.transform(y_test)"
     ],
     "language": "python",
     "metadata": {},
     "outputs": [],
     "prompt_number": 22
    },
    {
     "cell_type": "code",
     "collapsed": false,
     "input": [
      "out = model.predict(X_test_imputed)"
     ],
     "language": "python",
     "metadata": {},
     "outputs": [],
     "prompt_number": 23
    },
    {
     "cell_type": "code",
     "collapsed": false,
     "input": [
      "df['auto_pred_2013'] = DataFrame(out)"
     ],
     "language": "python",
     "metadata": {},
     "outputs": [],
     "prompt_number": 24
    },
    {
     "cell_type": "code",
     "collapsed": false,
     "input": [
      "df.head()"
     ],
     "language": "python",
     "metadata": {},
     "outputs": [
      {
       "html": [
        "<div style=\"max-height:1000px;max-width:1500px;overflow:auto;\">\n",
        "<table border=\"1\" class=\"dataframe\">\n",
        "  <thead>\n",
        "    <tr style=\"text-align: right;\">\n",
        "      <th></th>\n",
        "      <th>DBN</th>\n",
        "      <th>School</th>\n",
        "      <th>2012_13_SCORE</th>\n",
        "      <th>2011_12_SCORE</th>\n",
        "      <th>2010_11_SCORE</th>\n",
        "      <th>2009_10_SCORE</th>\n",
        "      <th>2008_09_SCORE</th>\n",
        "      <th>2007_08_SCORE</th>\n",
        "      <th>2006_07_SCORE</th>\n",
        "      <th>auto_pred_2012</th>\n",
        "      <th>auto_pred_2013</th>\n",
        "    </tr>\n",
        "  </thead>\n",
        "  <tbody>\n",
        "    <tr>\n",
        "      <th>0</th>\n",
        "      <td> 24Q877</td>\n",
        "      <td> The 51 Avenue Academy (The Path To Academic Ex...</td>\n",
        "      <td> 59.4</td>\n",
        "      <td> 78.2</td>\n",
        "      <td> 77.2</td>\n",
        "      <td> 78.1</td>\n",
        "      <td> 95.7</td>\n",
        "      <td> 79.0</td>\n",
        "      <td> 49.7</td>\n",
        "      <td> 73.419977</td>\n",
        "      <td> 74.463937</td>\n",
        "    </tr>\n",
        "    <tr>\n",
        "      <th>1</th>\n",
        "      <td> 24Q877</td>\n",
        "      <td> 51 Avenue Academy (The Path To Academic Excell...</td>\n",
        "      <td> 59.4</td>\n",
        "      <td> 78.2</td>\n",
        "      <td> 77.2</td>\n",
        "      <td> 78.1</td>\n",
        "      <td> 95.7</td>\n",
        "      <td> 79.0</td>\n",
        "      <td> 49.7</td>\n",
        "      <td> 73.419977</td>\n",
        "      <td> 74.463937</td>\n",
        "    </tr>\n",
        "    <tr>\n",
        "      <th>2</th>\n",
        "      <td> 24Q877</td>\n",
        "      <td> 51 AVENUE ACADEMY (THE PATH TO ACADEMIC EXCELL...</td>\n",
        "      <td> 59.4</td>\n",
        "      <td> 78.2</td>\n",
        "      <td> 77.2</td>\n",
        "      <td> 78.1</td>\n",
        "      <td> 95.7</td>\n",
        "      <td> 79.0</td>\n",
        "      <td> 49.7</td>\n",
        "      <td> 73.419977</td>\n",
        "      <td> 74.463937</td>\n",
        "    </tr>\n",
        "    <tr>\n",
        "      <th>3</th>\n",
        "      <td> 17K382</td>\n",
        "      <td> Academy for College Preparation and Career Exp...</td>\n",
        "      <td> 36.1</td>\n",
        "      <td> 44.4</td>\n",
        "      <td> 47.7</td>\n",
        "      <td> 28.8</td>\n",
        "      <td> 52.3</td>\n",
        "      <td> 76.3</td>\n",
        "      <td>  NaN</td>\n",
        "      <td> 51.521600</td>\n",
        "      <td> 49.872815</td>\n",
        "    </tr>\n",
        "    <tr>\n",
        "      <th>4</th>\n",
        "      <td> 17K382</td>\n",
        "      <td> Academy for College Preparation and Career Exp...</td>\n",
        "      <td> 36.1</td>\n",
        "      <td> 44.4</td>\n",
        "      <td> 47.7</td>\n",
        "      <td> 28.8</td>\n",
        "      <td> 52.3</td>\n",
        "      <td> 76.3</td>\n",
        "      <td>  NaN</td>\n",
        "      <td> 51.521600</td>\n",
        "      <td> 49.872815</td>\n",
        "    </tr>\n",
        "  </tbody>\n",
        "</table>\n",
        "</div>"
       ],
       "metadata": {},
       "output_type": "pyout",
       "prompt_number": 25,
       "text": [
        "      DBN                                             School  2012_13_SCORE  \\\n",
        "0  24Q877  The 51 Avenue Academy (The Path To Academic Ex...           59.4   \n",
        "1  24Q877  51 Avenue Academy (The Path To Academic Excell...           59.4   \n",
        "2  24Q877  51 AVENUE ACADEMY (THE PATH TO ACADEMIC EXCELL...           59.4   \n",
        "3  17K382  Academy for College Preparation and Career Exp...           36.1   \n",
        "4  17K382  Academy for College Preparation and Career Exp...           36.1   \n",
        "\n",
        "   2011_12_SCORE  2010_11_SCORE  2009_10_SCORE  2008_09_SCORE  2007_08_SCORE  \\\n",
        "0           78.2           77.2           78.1           95.7           79.0   \n",
        "1           78.2           77.2           78.1           95.7           79.0   \n",
        "2           78.2           77.2           78.1           95.7           79.0   \n",
        "3           44.4           47.7           28.8           52.3           76.3   \n",
        "4           44.4           47.7           28.8           52.3           76.3   \n",
        "\n",
        "   2006_07_SCORE  auto_pred_2012  auto_pred_2013  \n",
        "0           49.7       73.419977       74.463937  \n",
        "1           49.7       73.419977       74.463937  \n",
        "2           49.7       73.419977       74.463937  \n",
        "3            NaN       51.521600       49.872815  \n",
        "4            NaN       51.521600       49.872815  "
       ]
      }
     ],
     "prompt_number": 25
    },
    {
     "cell_type": "code",
     "collapsed": false,
     "input": [
      "RMSE_auto_test = ((df['auto_pred_2013']-df['2012_13_SCORE'])**2).mean()**(0.5)\n",
      "print \"RMSE of autoregression on test data: \" +  str(RMSE_auto_test)"
     ],
     "language": "python",
     "metadata": {},
     "outputs": [
      {
       "output_type": "stream",
       "stream": "stdout",
       "text": [
        "RMSE of autoregression on test data: 12.2674114919\n"
       ]
      }
     ],
     "prompt_number": 26
    },
    {
     "cell_type": "code",
     "collapsed": false,
     "input": [
      "coef = model.coef_\n",
      "print \"coefficients of autoregression: \" + str(coef)"
     ],
     "language": "python",
     "metadata": {},
     "outputs": [
      {
       "output_type": "stream",
       "stream": "stdout",
       "text": [
        "coefficients of autoregression: [[-0.00988624  0.15015236  0.06745464  0.23909655  0.22847161]]\n"
       ]
      }
     ],
     "prompt_number": 27
    },
    {
     "cell_type": "code",
     "collapsed": false,
     "input": [
      "inter = model.intercept_\n",
      "print \"intercept of autoregression: \" + str(inter)"
     ],
     "language": "python",
     "metadata": {},
     "outputs": [
      {
       "output_type": "stream",
       "stream": "stdout",
       "text": [
        "intercept of autoregression: [ 19.28242889]\n"
       ]
      }
     ],
     "prompt_number": 28
    },
    {
     "cell_type": "code",
     "collapsed": false,
     "input": [],
     "language": "python",
     "metadata": {},
     "outputs": []
    }
   ],
   "metadata": {}
  }
 ]
}